{
 "cells": [
  {
   "cell_type": "markdown",
   "id": "2accb45a",
   "metadata": {},
   "source": [
    "## 3. Minor, Cofactor, Cofactor Matrix and Adjugate matrix"
   ]
  },
  {
   "cell_type": "code",
   "execution_count": 2,
   "id": "d4c502d9",
   "metadata": {},
   "outputs": [],
   "source": [
    "import sympy as sp\n",
    "sp.init_printing()"
   ]
  },
  {
   "cell_type": "code",
   "execution_count": 3,
   "id": "5583624b",
   "metadata": {},
   "outputs": [
    {
     "data": {
      "image/png": "[encoded data removed]",
      "text/latex": [
       "$\\displaystyle \\left[\\begin{matrix}1 & 2 & 3\\\\-1 & 2 & -2\\\\2 & 0 & 1\\end{matrix}\\right]$"
      ],
      "text/plain": [
       "⎡1   2  3 ⎤\n",
       "⎢         ⎥\n",
       "⎢-1  2  -2⎥\n",
       "⎢         ⎥\n",
       "⎣2   0  1 ⎦"
      ]
     },
     "execution_count": 3,
     "metadata": {},
     "output_type": "execute_result"
    }
   ],
   "source": [
    "M1=sp.Matrix(3,3,[1,2,3,-1,2,-2,2,0,1])\n",
    "M1"
   ]
  },
  {
   "cell_type": "code",
   "execution_count": 9,
   "id": "ee13769c",
   "metadata": {},
   "outputs": [
    {
     "data": {
      "image/png": "[encoded data removed]",
      "text/latex": [
       "$\\displaystyle 2$"
      ],
      "text/plain": [
       "2"
      ]
     },
     "execution_count": 9,
     "metadata": {},
     "output_type": "execute_result"
    }
   ],
   "source": [
    "#To get minor of each element\n",
    "M1.minor(1,0)"
   ]
  },
  {
   "cell_type": "code",
   "execution_count": 10,
   "id": "92d5d234",
   "metadata": {},
   "outputs": [
    {
     "data": {
      "image/png": "[encoded data removed]",
      "text/latex": [
       "$\\displaystyle -2$"
      ],
      "text/plain": [
       "-2"
      ]
     },
     "execution_count": 10,
     "metadata": {},
     "output_type": "execute_result"
    }
   ],
   "source": [
    "#To get cofactor of each element\n",
    "M1.cofactor(1,0)"
   ]
  },
  {
   "cell_type": "code",
   "execution_count": 11,
   "id": "59a30525",
   "metadata": {},
   "outputs": [
    {
     "data": {
      "image/png": "[encoded data removed]",
      "text/latex": [
       "$\\displaystyle \\left[\\begin{matrix}2 & -2\\\\0 & 1\\end{matrix}\\right]$"
      ],
      "text/plain": [
       "⎡2  -2⎤\n",
       "⎢     ⎥\n",
       "⎣0  1 ⎦"
      ]
     },
     "execution_count": 11,
     "metadata": {},
     "output_type": "execute_result"
    }
   ],
   "source": [
    "#To get minor submatrix of each element\n",
    "M1.minor_submatrix(0,0)"
   ]
  },
  {
   "cell_type": "code",
   "execution_count": 12,
   "id": "b665882f",
   "metadata": {},
   "outputs": [
    {
     "data": {
      "image/png": "[encoded data removed]",
      "text/latex": [
       "$\\displaystyle \\left[\\begin{matrix}1 & 3\\\\2 & 1\\end{matrix}\\right]$"
      ],
      "text/plain": [
       "⎡1  3⎤\n",
       "⎢    ⎥\n",
       "⎣2  1⎦"
      ]
     },
     "execution_count": 12,
     "metadata": {},
     "output_type": "execute_result"
    }
   ],
   "source": [
    "M1.minor_submatrix(1,1)"
   ]
  },
  {
   "cell_type": "code",
   "execution_count": 5,
   "id": "c1d3b137",
   "metadata": {},
   "outputs": [
    {
     "data": {
      "image/png": "[encoded data removed]",
      "text/latex": [
       "$\\displaystyle \\left[\\begin{matrix}2 & -3 & -4\\\\-2 & -5 & 4\\\\-10 & -1 & 4\\end{matrix}\\right]$"
      ],
      "text/plain": [
       "⎡ 2   -3  -4⎤\n",
       "⎢           ⎥\n",
       "⎢-2   -5  4 ⎥\n",
       "⎢           ⎥\n",
       "⎣-10  -1  4 ⎦"
      ]
     },
     "execution_count": 5,
     "metadata": {},
     "output_type": "execute_result"
    }
   ],
   "source": [
    "cofactor=M1.cofactor_matrix()\n",
    "cofactor"
   ]
  },
  {
   "cell_type": "code",
   "execution_count": 13,
   "id": "e77c8527",
   "metadata": {},
   "outputs": [
    {
     "data": {
      "image/png": "[encoded data removed]",
      "text/latex": [
       "$\\displaystyle \\left[\\begin{matrix}2 & -2 & -10\\\\-3 & -5 & -1\\\\-4 & 4 & 4\\end{matrix}\\right]$"
      ],
      "text/plain": [
       "⎡2   -2  -10⎤\n",
       "⎢           ⎥\n",
       "⎢-3  -5  -1 ⎥\n",
       "⎢           ⎥\n",
       "⎣-4  4    4 ⎦"
      ]
     },
     "execution_count": 13,
     "metadata": {},
     "output_type": "execute_result"
    }
   ],
   "source": [
    "#Get the adjoint of the matrix M3\n",
    "M1.adjugate()"
   ]
  },
  {
   "cell_type": "code",
   "execution_count": 14,
   "id": "dc934895",
   "metadata": {},
   "outputs": [
    {
     "data": {
      "image/png": "[encoded data removed]",
      "text/latex": [
       "$\\displaystyle \\left[\\begin{matrix}2 & -2 & -10\\\\-3 & -5 & -1\\\\-4 & 4 & 4\\end{matrix}\\right]$"
      ],
      "text/plain": [
       "⎡2   -2  -10⎤\n",
       "⎢           ⎥\n",
       "⎢-3  -5  -1 ⎥\n",
       "⎢           ⎥\n",
       "⎣-4  4    4 ⎦"
      ]
     },
     "execution_count": 14,
     "metadata": {},
     "output_type": "execute_result"
    }
   ],
   "source": [
    "#Adjugate is the transpose of cofactor matrix\n",
    "cofactor.T"
   ]
  },
  {
   "cell_type": "markdown",
   "id": "a84832f1",
   "metadata": {},
   "source": [
    "#### <span style=\"color:blue;\">3.1 Inverse of a matrix using adjugate matrix</span>"
   ]
  },
  {
   "cell_type": "code",
   "execution_count": 15,
   "id": "1a1480a1",
   "metadata": {},
   "outputs": [
    {
     "data": {
      "image/png": "[encoded data removed]",
      "text/latex": [
       "$\\displaystyle \\left[\\begin{matrix}1 & 2 & 3\\\\2 & 5 & 3\\\\1 & 0 & 8\\end{matrix}\\right]$"
      ],
      "text/plain": [
       "⎡1  2  3⎤\n",
       "⎢       ⎥\n",
       "⎢2  5  3⎥\n",
       "⎢       ⎥\n",
       "⎣1  0  8⎦"
      ]
     },
     "execution_count": 15,
     "metadata": {},
     "output_type": "execute_result"
    }
   ],
   "source": [
    "A = sp.Matrix(3,3,[1,2,3,2,5,3,1,0,8])\n",
    "A"
   ]
  },
  {
   "cell_type": "code",
   "execution_count": 18,
   "id": "a75a37a5",
   "metadata": {},
   "outputs": [
    {
     "data": {
      "image/png": "[encoded data removed]",
      "text/latex": [
       "$\\displaystyle -1$"
      ],
      "text/plain": [
       "-1"
      ]
     },
     "execution_count": 18,
     "metadata": {},
     "output_type": "execute_result"
    }
   ],
   "source": [
    "#Check if the inverse exist by checking determinant is zero or not\n",
    "det_A = sp.det(A)\n",
    "det_A"
   ]
  },
  {
   "cell_type": "code",
   "execution_count": 20,
   "id": "eb774e3e",
   "metadata": {},
   "outputs": [
    {
     "data": {
      "image/png": "[encoded data removed]",
      "text/latex": [
       "$\\displaystyle \\left[\\begin{matrix}40 & -16 & -9\\\\-13 & 5 & 3\\\\-5 & 2 & 1\\end{matrix}\\right]$"
      ],
      "text/plain": [
       "⎡40   -16  -9⎤\n",
       "⎢            ⎥\n",
       "⎢-13   5   3 ⎥\n",
       "⎢            ⎥\n",
       "⎣-5    2   1 ⎦"
      ]
     },
     "execution_count": 20,
     "metadata": {},
     "output_type": "execute_result"
    }
   ],
   "source": [
    "#Getting adjoint matrix\n",
    "Adj_A = A.adjugate()\n",
    "Adj_A"
   ]
  },
  {
   "cell_type": "markdown",
   "id": "630c025a",
   "metadata": {},
   "source": [
    "The formula for finding inverse of non singular matrix $A$ is\n",
    "\n",
    "$$A^{-1}=\\frac{1}{det(A)}Adj(A)$$"
   ]
  },
  {
   "cell_type": "code",
   "execution_count": 21,
   "id": "5d2181a5",
   "metadata": {},
   "outputs": [
    {
     "data": {
      "image/png": "[encoded data removed]",
      "text/latex": [
       "$\\displaystyle \\left[\\begin{matrix}-40 & 16 & 9\\\\13 & -5 & -3\\\\5 & -2 & -1\\end{matrix}\\right]$"
      ],
      "text/plain": [
       "⎡-40  16  9 ⎤\n",
       "⎢           ⎥\n",
       "⎢13   -5  -3⎥\n",
       "⎢           ⎥\n",
       "⎣ 5   -2  -1⎦"
      ]
     },
     "execution_count": 21,
     "metadata": {},
     "output_type": "execute_result"
    }
   ],
   "source": [
    "Inv_A = (1/det_A)*Adj_A\n",
    "Inv_A"
   ]
  },
  {
   "cell_type": "code",
   "execution_count": 24,
   "id": "34c759ed",
   "metadata": {},
   "outputs": [
    {
     "data": {
      "image/png": "[encoded data removed]",
      "text/latex": [
       "$\\displaystyle \\left[\\begin{matrix}1 & 0 & 0\\\\0 & 1 & 0\\\\0 & 0 & 1\\end{matrix}\\right]$"
      ],
      "text/plain": [
       "⎡1  0  0⎤\n",
       "⎢       ⎥\n",
       "⎢0  1  0⎥\n",
       "⎢       ⎥\n",
       "⎣0  0  1⎦"
      ]
     },
     "execution_count": 24,
     "metadata": {},
     "output_type": "execute_result"
    }
   ],
   "source": [
    "#Verify if the inverse is right by checking if the product of A\n",
    "#and its inverse is identity\n",
    "A*Inv_A"
   ]
  },
  {
   "cell_type": "markdown",
   "id": "28d82792",
   "metadata": {},
   "source": [
    "### Exercises \n",
    "\n",
    "Check if the following matrices are invertible. If so, find the inverse using adjugate matrix.\n",
    "\n",
    "$$\n",
    "1. \\begin{pmatrix}\n",
    "-1&3&-4\\\\\n",
    "2&4&1\\\\\n",
    "-4&2&-9\n",
    "\\end{pmatrix}\n",
    "$$\n",
    "\n",
    "$$\n",
    "2. \\begin{pmatrix}\n",
    "-1&0&1&0\\\\\n",
    "2&3&-2&6\\\\\n",
    "0&-1&2&0\\\\\n",
    "0&0&1&5\n",
    "\\end{pmatrix}\n",
    "$$"
   ]
  }
 ],
 "metadata": {
  "kernelspec": {
   "display_name": "Python 3 (ipykernel)",
   "language": "python",
   "name": "python3"
  },
  "language_info": {
   "codemirror_mode": {
    "name": "ipython",
    "version": 3
   },
   "file_extension": ".py",
   "mimetype": "text/x-python",
   "name": "python",
   "nbconvert_exporter": "python",
   "pygments_lexer": "ipython3",
   "version": "3.10.9"
  }
 },
 "nbformat": 4,
 "nbformat_minor": 5
}
