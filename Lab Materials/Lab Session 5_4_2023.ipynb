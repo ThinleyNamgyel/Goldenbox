{
 "cells": [
  {
   "cell_type": "markdown",
   "id": "89ecf5ee",
   "metadata": {},
   "source": [
    "### Lab Session on solving System of Linear Equations"
   ]
  },
  {
   "cell_type": "code",
   "execution_count": 41,
   "id": "c34370d8",
   "metadata": {},
   "outputs": [],
   "source": [
    "# Import Sympy\n",
    "import sympy as sp\n",
    "sp.init_printing()"
   ]
  },
  {
   "cell_type": "code",
   "execution_count": 42,
   "id": "1797478c",
   "metadata": {},
   "outputs": [],
   "source": [
    "# Define symbols \n",
    "x,y,z=sp.symbols('x,y,z')"
   ]
  },
  {
   "cell_type": "markdown",
   "id": "9413394b",
   "metadata": {},
   "source": [
    "Create the equation \n",
    "$$\n",
    "x^2-7x+12=0\n",
    "$$"
   ]
  },
  {
   "cell_type": "code",
   "execution_count": 43,
   "id": "c0445557",
   "metadata": {},
   "outputs": [
    {
     "data": {
      "image/png": "[encoded data removed]",
      "text/latex": [
       "$\\displaystyle x^{2} - 7 x + 12 = 0$"
      ],
      "text/plain": [
       " 2               \n",
       "x  - 7⋅x + 12 = 0"
      ]
     },
     "execution_count": 43,
     "metadata": {},
     "output_type": "execute_result"
    }
   ],
   "source": [
    "#Create the equation (Method 1)\n",
    "eq1=sp.Eq(x**2-7*x+12,0)\n",
    "eq1"
   ]
  },
  {
   "cell_type": "code",
   "execution_count": 44,
   "id": "0e4f2411",
   "metadata": {},
   "outputs": [
    {
     "data": {
      "image/png": "[encoded data removed]",
      "text/latex": [
       "$\\displaystyle x^{2} - 7 x = -12$"
      ],
      "text/plain": [
       " 2            \n",
       "x  - 7⋅x = -12"
      ]
     },
     "execution_count": 44,
     "metadata": {},
     "output_type": "execute_result"
    }
   ],
   "source": [
    "#Create the equation (Method 2)\n",
    "eq2=sp.Eq(x**2-7*x,-12)\n",
    "eq2"
   ]
  },
  {
   "cell_type": "code",
   "execution_count": 46,
   "id": "5629a45c",
   "metadata": {},
   "outputs": [
    {
     "data": {
      "image/png": "[encoded data removed]",
      "text/latex": [
       "$\\displaystyle \\text{False}$"
      ],
      "text/plain": [
       "False"
      ]
     },
     "execution_count": 46,
     "metadata": {},
     "output_type": "execute_result"
    }
   ],
   "source": [
    "#Substitute value for variable in the equation\n",
    "eq1.subs(x,2)"
   ]
  },
  {
   "cell_type": "code",
   "execution_count": 47,
   "id": "757d8b64",
   "metadata": {},
   "outputs": [
    {
     "data": {
      "image/png": "[encoded data removed]",
      "text/latex": [
       "$\\displaystyle \\text{True}$"
      ],
      "text/plain": [
       "True"
      ]
     },
     "execution_count": 47,
     "metadata": {},
     "output_type": "execute_result"
    }
   ],
   "source": [
    "eq1.subs(x,4)"
   ]
  },
  {
   "cell_type": "code",
   "execution_count": 48,
   "id": "8ca73102",
   "metadata": {},
   "outputs": [
    {
     "data": {
      "image/png": "[encoded data removed]",
      "text/latex": [
       "$\\displaystyle \\left\\{3, 4\\right\\}$"
      ],
      "text/plain": [
       "{3, 4}"
      ]
     },
     "execution_count": 48,
     "metadata": {},
     "output_type": "execute_result"
    }
   ],
   "source": [
    "#Solve the equation using solveset function\n",
    "sp.solveset(eq1,x)"
   ]
  },
  {
   "cell_type": "code",
   "execution_count": 51,
   "id": "c0edb515",
   "metadata": {},
   "outputs": [
    {
     "data": {
      "image/png": "[encoded data removed]",
      "text/latex": [
       "$\\displaystyle \\left(x - 4\\right) \\left(x - 3\\right) = 0$"
      ],
      "text/plain": [
       "(x - 4)⋅(x - 3) = 0"
      ]
     },
     "execution_count": 51,
     "metadata": {},
     "output_type": "execute_result"
    }
   ],
   "source": [
    "#Factorize the equation using factor function\n",
    "eq3=sp.factor(eq1)\n",
    "eq3"
   ]
  },
  {
   "cell_type": "code",
   "execution_count": 52,
   "id": "5cc13d01",
   "metadata": {},
   "outputs": [
    {
     "data": {
      "image/png": "[encoded data removed]",
      "text/latex": [
       "$\\displaystyle x^{2} - 7 x + 12 = 0$"
      ],
      "text/plain": [
       " 2               \n",
       "x  - 7⋅x + 12 = 0"
      ]
     },
     "execution_count": 52,
     "metadata": {},
     "output_type": "execute_result"
    }
   ],
   "source": [
    "#Expand using expand function\n",
    "sp.expand(eq3)"
   ]
  },
  {
   "cell_type": "code",
   "execution_count": 53,
   "id": "c28a8a1a",
   "metadata": {},
   "outputs": [
    {
     "data": {
      "image/png": "[encoded data removed]",
      "text/latex": [
       "$\\displaystyle - x^{2} - 2 x + 4 = 12$"
      ],
      "text/plain": [
       "   2               \n",
       "- x  - 2⋅x + 4 = 12"
      ]
     },
     "execution_count": 53,
     "metadata": {},
     "output_type": "execute_result"
    }
   ],
   "source": [
    "#Simlify function \n",
    "eq4=sp.Eq(2*x**2-3*x**2+2*x-4*x+4,12)\n",
    "eq4"
   ]
  },
  {
   "cell_type": "code",
   "execution_count": 54,
   "id": "262ce66f",
   "metadata": {},
   "outputs": [
    {
     "data": {
      "image/png": "[encoded data removed]",
      "text/latex": [
       "$\\displaystyle x^{2} + 2 x = -8$"
      ],
      "text/plain": [
       " 2           \n",
       "x  + 2⋅x = -8"
      ]
     },
     "execution_count": 54,
     "metadata": {},
     "output_type": "execute_result"
    }
   ],
   "source": [
    "sp.simplify(eq4)"
   ]
  },
  {
   "cell_type": "markdown",
   "id": "746150d6",
   "metadata": {},
   "source": [
    "### 1. Solving system of linear Equations using solve function"
   ]
  },
  {
   "cell_type": "markdown",
   "id": "051332a6",
   "metadata": {},
   "source": [
    "Solve the system of linear equations \n",
    "$$\n",
    "\\begin{eqnarray*}\n",
    "x-y+z&=&13\\\\\n",
    "2x+5y-3z&=&-13\\\\\n",
    "4x-y-6z&=&-4\n",
    "\\end{eqnarray*}\n",
    "$$"
   ]
  },
  {
   "cell_type": "code",
   "execution_count": 55,
   "id": "b2d53365",
   "metadata": {},
   "outputs": [
    {
     "data": {
      "image/png": "[encoded data removed]",
      "text/latex": [
       "$\\displaystyle \\left[ x - y + z = 13, \\  2 x + 5 y - 3 z = -13, \\  4 x - y - 6 z = -4\\right]$"
      ],
      "text/plain": [
       "[x - y + z = 13, 2⋅x + 5⋅y - 3⋅z = -13, 4⋅x - y - 6⋅z = -4]"
      ]
     },
     "execution_count": 55,
     "metadata": {},
     "output_type": "execute_result"
    }
   ],
   "source": [
    "#Creating System of linear equations \n",
    "eqn1=sp.Eq(x-y+z,13)\n",
    "eqn2=sp.Eq(2*x+5*y-3*z,-13)\n",
    "eqn3=sp.Eq(4*x-y-6*z,-4)\n",
    "system=[eqn1,eqn2,eqn3]\n",
    "system"
   ]
  },
  {
   "cell_type": "code",
   "execution_count": 56,
   "id": "b2a3c3d5",
   "metadata": {},
   "outputs": [
    {
     "data": {
      "image/png": "[encoded data removed]",
      "text/latex": [
       "$\\displaystyle \\left\\{ x : 6, \\  y : -2, \\  z : 5\\right\\}$"
      ],
      "text/plain": [
       "{x: 6, y: -2, z: 5}"
      ]
     },
     "execution_count": 56,
     "metadata": {},
     "output_type": "execute_result"
    }
   ],
   "source": [
    "#Solve system of linear equation using solve function\n",
    "sp.solve(system,x,y,z)"
   ]
  },
  {
   "cell_type": "code",
   "execution_count": 57,
   "id": "0d7906e7",
   "metadata": {},
   "outputs": [
    {
     "data": {
      "image/png": "[encoded data removed]",
      "text/latex": [
       "$\\displaystyle \\text{True}$"
      ],
      "text/plain": [
       "True"
      ]
     },
     "execution_count": 57,
     "metadata": {},
     "output_type": "execute_result"
    }
   ],
   "source": [
    "#Substitute solution in the first equation\n",
    "eqn1.subs([(x,6),(y,-2),(z,5)])"
   ]
  },
  {
   "cell_type": "code",
   "execution_count": 58,
   "id": "94e0de54",
   "metadata": {},
   "outputs": [
    {
     "data": {
      "image/png": "[encoded data removed]",
      "text/latex": [
       "$\\displaystyle \\text{True}$"
      ],
      "text/plain": [
       "True"
      ]
     },
     "execution_count": 58,
     "metadata": {},
     "output_type": "execute_result"
    }
   ],
   "source": [
    "#Substitute solution in the second equation\n",
    "eqn2.subs([(x,6),(y,-2),(z,5)])"
   ]
  },
  {
   "cell_type": "code",
   "execution_count": 59,
   "id": "34c85484",
   "metadata": {},
   "outputs": [
    {
     "data": {
      "image/png": "[encoded data removed]",
      "text/latex": [
       "$\\displaystyle \\text{True}$"
      ],
      "text/plain": [
       "True"
      ]
     },
     "execution_count": 59,
     "metadata": {},
     "output_type": "execute_result"
    }
   ],
   "source": [
    "#Substitute solution in the Third equation\n",
    "eqn3.subs([(x,6),(y,-2),(z,5)])"
   ]
  },
  {
   "cell_type": "markdown",
   "id": "8263e7c6",
   "metadata": {},
   "source": [
    "Solve the system of linear equations\n",
    "$$\n",
    "\\begin{eqnarray*}\n",
    "x+y+z&=&7\\\\\n",
    "3x-2y-z&=&4\\\\\n",
    "x+6y+5z&=&24\n",
    "\\end{eqnarray*}\n",
    "$$"
   ]
  },
  {
   "cell_type": "code",
   "execution_count": 60,
   "id": "7f58c682",
   "metadata": {},
   "outputs": [
    {
     "data": {
      "image/png": "[encoded data removed]",
      "text/latex": [
       "$\\displaystyle \\left[ x + y + z = 7, \\  3 x - 2 y - z = 4, \\  x + 6 y + 5 z = 24\\right]$"
      ],
      "text/plain": [
       "[x + y + z = 7, 3⋅x - 2⋅y - z = 4, x + 6⋅y + 5⋅z = 24]"
      ]
     },
     "execution_count": 60,
     "metadata": {},
     "output_type": "execute_result"
    }
   ],
   "source": [
    "#Create system of Equations\n",
    "e1=sp.Eq(x+y+z,7)\n",
    "e2=sp.Eq(3*x-2*y-z,4)\n",
    "e3=sp.Eq(x+6*y+5*z,24)\n",
    "sys=[e1,e2,e3]\n",
    "sys"
   ]
  },
  {
   "cell_type": "code",
   "execution_count": 61,
   "id": "3d96062d",
   "metadata": {},
   "outputs": [
    {
     "data": {
      "image/png": "[encoded data removed]",
      "text/latex": [
       "$\\displaystyle \\left\\{ x : \\frac{18}{5} - \\frac{z}{5}, \\  y : \\frac{17}{5} - \\frac{4 z}{5}\\right\\}$"
      ],
      "text/plain": [
       "⎧   18   z     17   4⋅z⎫\n",
       "⎨x: ── - ─, y: ── - ───⎬\n",
       "⎩   5    5     5     5 ⎭"
      ]
     },
     "execution_count": 61,
     "metadata": {},
     "output_type": "execute_result"
    }
   ],
   "source": [
    "# Solve the system\n",
    "sp.solve(sys,x,y,x)"
   ]
  },
  {
   "cell_type": "markdown",
   "id": "f7e28972",
   "metadata": {},
   "source": [
    "Solve the system of linear equations\n",
    "\n",
    "$$\n",
    "\\begin{eqnarray*}\n",
    "x-3y+z&=&4\\\\\n",
    "-x+2y-5z&=&3\\\\\n",
    "5x-13y+13z&=&8\n",
    "\\end{eqnarray*}\n",
    "$$"
   ]
  },
  {
   "cell_type": "code",
   "execution_count": 63,
   "id": "ce8f9e9d",
   "metadata": {},
   "outputs": [
    {
     "data": {
      "image/png": "[encoded data removed]",
      "text/latex": [
       "$\\displaystyle \\left[ x - 3 y + z = 4, \\  - x + 2 y - 5 z = 3, \\  5 x - 13 y + 13 z = 8\\right]$"
      ],
      "text/plain": [
       "[x - 3⋅y + z = 4, -x + 2⋅y - 5⋅z = 3, 5⋅x - 13⋅y + 13⋅z = 8]"
      ]
     },
     "execution_count": 63,
     "metadata": {},
     "output_type": "execute_result"
    }
   ],
   "source": [
    "#Create the system of equations\n",
    "ex1=sp.Eq(x-3*y+z,4)\n",
    "ex2=sp.Eq(-x+2*y-5*z,3)\n",
    "ex3=sp.Eq(5*x-13*y+13*z,8)\n",
    "syst=[ex1,ex2,ex3]\n",
    "syst"
   ]
  },
  {
   "cell_type": "code",
   "execution_count": 64,
   "id": "403147d8",
   "metadata": {},
   "outputs": [
    {
     "data": {
      "image/png": "[encoded data removed]",
      "text/latex": [
       "$\\displaystyle \\left[ \\right]$"
      ],
      "text/plain": [
       "[]"
      ]
     },
     "execution_count": 64,
     "metadata": {},
     "output_type": "execute_result"
    }
   ],
   "source": [
    "# Solve the system\n",
    "sp.solve(syst,x,y,z)"
   ]
  },
  {
   "cell_type": "markdown",
   "id": "ccb8c8f3",
   "metadata": {},
   "source": [
    "### 2. Getting row echelon form and requced row echelon form"
   ]
  },
  {
   "cell_type": "markdown",
   "id": "368587c8",
   "metadata": {},
   "source": [
    "Get the augmented matrix of the following system and get its row echelon form and reduced row echelon form.\n",
    "\n",
    "$$\n",
    "\\begin{eqnarray*}\n",
    "x-y+z&=&13\\\\\n",
    "2x+5y-3z&=&-13\\\\\n",
    "4x-y-6z&=&-4\n",
    "\\end{eqnarray*}\n",
    "$$"
   ]
  },
  {
   "cell_type": "code",
   "execution_count": 65,
   "id": "38437a24",
   "metadata": {
    "scrolled": true
   },
   "outputs": [
    {
     "data": {
      "image/png": "[encoded data removed]",
      "text/latex": [
       "$\\displaystyle \\left[\\begin{matrix}1 & -1 & 1 & 13\\\\2 & 5 & -3 & -13\\\\4 & -1 & -6 & -4\\end{matrix}\\right]$"
      ],
      "text/plain": [
       "⎡1  -1  1   13 ⎤\n",
       "⎢              ⎥\n",
       "⎢2  5   -3  -13⎥\n",
       "⎢              ⎥\n",
       "⎣4  -1  -6  -4 ⎦"
      ]
     },
     "execution_count": 65,
     "metadata": {},
     "output_type": "execute_result"
    }
   ],
   "source": [
    "#Create the augmented matrix A\n",
    "A = sp.Matrix(3,4,[1,-1,1,13,2,5,-3,-13,4,-1,-6,-4])\n",
    "A"
   ]
  },
  {
   "cell_type": "code",
   "execution_count": 66,
   "id": "8d8cf719",
   "metadata": {},
   "outputs": [
    {
     "data": {
      "image/png": "[encoded data removed]",
      "text/latex": [
       "$\\displaystyle \\left[\\begin{matrix}1 & -1 & 1 & 13\\\\0 & 7 & -5 & -39\\\\0 & 0 & -55 & -275\\end{matrix}\\right]$"
      ],
      "text/plain": [
       "⎡1  -1   1    13 ⎤\n",
       "⎢                ⎥\n",
       "⎢0  7   -5   -39 ⎥\n",
       "⎢                ⎥\n",
       "⎣0  0   -55  -275⎦"
      ]
     },
     "execution_count": 66,
     "metadata": {},
     "output_type": "execute_result"
    }
   ],
   "source": [
    "# Get its row echelon form using A.echelon_form()\n",
    "B=A.echelon_form()\n",
    "B"
   ]
  },
  {
   "cell_type": "code",
   "execution_count": 68,
   "id": "68a06018",
   "metadata": {},
   "outputs": [
    {
     "data": {
      "image/png": "[encoded data removed]",
      "text/latex": [
       "$\\displaystyle 5$"
      ],
      "text/plain": [
       "5"
      ]
     },
     "execution_count": 68,
     "metadata": {},
     "output_type": "execute_result"
    }
   ],
   "source": [
    "#Solve for solution using back substitution \n",
    "z1=B.row(2)[3]/B.row(2)[2]\n",
    "z1"
   ]
  },
  {
   "cell_type": "code",
   "execution_count": 70,
   "id": "f44df105",
   "metadata": {},
   "outputs": [
    {
     "data": {
      "image/png": "[encoded data removed]",
      "text/latex": [
       "$\\displaystyle -2$"
      ],
      "text/plain": [
       "-2"
      ]
     },
     "execution_count": 70,
     "metadata": {},
     "output_type": "execute_result"
    }
   ],
   "source": [
    "y1=(B.row(1)[3]-z1*B.row(1)[2])/B.row(1)[1]\n",
    "y1"
   ]
  },
  {
   "cell_type": "code",
   "execution_count": 72,
   "id": "fee1b63e",
   "metadata": {},
   "outputs": [
    {
     "data": {
      "image/png": "[encoded data removed]",
      "text/latex": [
       "$\\displaystyle 6$"
      ],
      "text/plain": [
       "6"
      ]
     },
     "execution_count": 72,
     "metadata": {},
     "output_type": "execute_result"
    }
   ],
   "source": [
    "x1=B.row(0)[3]-y1*B.row(0)[1]-z1*B.row(0)[2]\n",
    "x1"
   ]
  },
  {
   "cell_type": "code",
   "execution_count": 74,
   "id": "ebe9fd96",
   "metadata": {},
   "outputs": [
    {
     "data": {
      "image/png": "[encoded data removed]",
      "text/latex": [
       "$\\displaystyle \\left[\\begin{matrix}1 & 0 & 0 & 6\\\\0 & 1 & 0 & -2\\\\0 & 0 & 1 & 5\\end{matrix}\\right]$"
      ],
      "text/plain": [
       "⎡1  0  0  6 ⎤\n",
       "⎢           ⎥\n",
       "⎢0  1  0  -2⎥\n",
       "⎢           ⎥\n",
       "⎣0  0  1  5 ⎦"
      ]
     },
     "execution_count": 74,
     "metadata": {},
     "output_type": "execute_result"
    }
   ],
   "source": [
    "# Get its reduced row echelon form using A.rref(pivots=False)\n",
    "A.rref(pivots=False)"
   ]
  },
  {
   "cell_type": "markdown",
   "id": "464b221a",
   "metadata": {},
   "source": [
    "Reduce the augmented matrix of the following system of row echelon form and make conclussion about the consistency of the system.\n",
    "\n",
    "$$\n",
    "\\begin{eqnarray*}\n",
    "x-3y+z&=&4\\\\\n",
    "-x+2y-5z&=&3\\\\\n",
    "5x-13y+13z&=&8\n",
    "\\end{eqnarray*}\n",
    "$$"
   ]
  },
  {
   "cell_type": "code",
   "execution_count": null,
   "id": "2aabe1e0",
   "metadata": {},
   "outputs": [],
   "source": []
  },
  {
   "cell_type": "markdown",
   "id": "d8e0bf4f",
   "metadata": {},
   "source": [
    "### 3. Performing elementary row operations on augmented matrix"
   ]
  },
  {
   "cell_type": "markdown",
   "id": "979b9f51",
   "metadata": {},
   "source": [
    "Solve this system by performing elementary row operations\n",
    "\n",
    "$$\n",
    "\\begin{eqnarray*}\n",
    "x-y+z&=&13\\\\\n",
    "2x+5y-3z&=&-13\\\\\n",
    "4x-y-6z&=&-4\n",
    "\\end{eqnarray*}\n",
    "$$"
   ]
  },
  {
   "cell_type": "code",
   "execution_count": null,
   "id": "d8eedb29",
   "metadata": {},
   "outputs": [],
   "source": [
    "# Get Augmented Matrix\n"
   ]
  },
  {
   "cell_type": "code",
   "execution_count": null,
   "id": "b5ea414d",
   "metadata": {},
   "outputs": [],
   "source": [
    "# Perform elementary row operations using \n",
    "#A.elementary_row_op(op='',row='',row1='',row2='',k='')\n"
   ]
  },
  {
   "cell_type": "markdown",
   "id": "15b777b5",
   "metadata": {},
   "source": [
    "### 4. Solve using gauss_jordan_solve"
   ]
  },
  {
   "cell_type": "code",
   "execution_count": null,
   "id": "1614d657",
   "metadata": {},
   "outputs": [],
   "source": []
  }
 ],
 "metadata": {
  "kernelspec": {
   "display_name": "Python 3 (ipykernel)",
   "language": "python",
   "name": "python3"
  },
  "language_info": {
   "codemirror_mode": {
    "name": "ipython",
    "version": 3
   },
   "file_extension": ".py",
   "mimetype": "text/x-python",
   "name": "python",
   "nbconvert_exporter": "python",
   "pygments_lexer": "ipython3",
   "version": "3.10.9"
  }
 },
 "nbformat": 4,
 "nbformat_minor": 5
}
