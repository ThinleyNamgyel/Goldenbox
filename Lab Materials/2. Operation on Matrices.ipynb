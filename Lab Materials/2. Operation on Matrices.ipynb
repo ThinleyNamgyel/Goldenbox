{
 "cells": [
  {
   "cell_type": "markdown",
   "id": "794101d4",
   "metadata": {},
   "source": [
    "## 2. Operations on Matrices "
   ]
  },
  {
   "cell_type": "markdown",
   "id": "62aba4d7",
   "metadata": {},
   "source": [
    "#### <span style=\"color:blue;\">2.1 Trace of a Matrix</span>"
   ]
  },
  {
   "cell_type": "code",
   "execution_count": 2,
   "id": "ba25aaac",
   "metadata": {},
   "outputs": [],
   "source": [
    "import sympy as sp\n",
    "sp.init_printing()"
   ]
  },
  {
   "cell_type": "code",
   "execution_count": 3,
   "id": "3676e1df",
   "metadata": {},
   "outputs": [
    {
     "data": {
      "image/png": "[encoded data removed]",
      "text/latex": [
       "$\\displaystyle \\left[\\begin{matrix}2 & 0 & 0 & 0\\\\0 & 3 & 0 & 0\\\\0 & 0 & 4 & 0\\\\0 & 0 & 0 & -5\\end{matrix}\\right]$"
      ],
      "text/plain": [
       "⎡2  0  0  0 ⎤\n",
       "⎢           ⎥\n",
       "⎢0  3  0  0 ⎥\n",
       "⎢           ⎥\n",
       "⎢0  0  4  0 ⎥\n",
       "⎢           ⎥\n",
       "⎣0  0  0  -5⎦"
      ]
     },
     "execution_count": 3,
     "metadata": {},
     "output_type": "execute_result"
    }
   ],
   "source": [
    "M1 = sp.diag(2,3,4,-5)\n",
    "M1"
   ]
  },
  {
   "cell_type": "code",
   "execution_count": 4,
   "id": "0aab80c9",
   "metadata": {},
   "outputs": [
    {
     "data": {
      "image/png": "[encoded data removed]",
      "text/latex": [
       "$\\displaystyle 4$"
      ],
      "text/plain": [
       "4"
      ]
     },
     "execution_count": 4,
     "metadata": {},
     "output_type": "execute_result"
    }
   ],
   "source": [
    "sp.trace(M1)"
   ]
  },
  {
   "cell_type": "markdown",
   "id": "92b2e6db",
   "metadata": {},
   "source": [
    "#### <span style=\"color:blue;\">2.2 Determinant of a Matrix</span>"
   ]
  },
  {
   "cell_type": "code",
   "execution_count": 5,
   "id": "1113b762",
   "metadata": {},
   "outputs": [
    {
     "data": {
      "image/png": "[encoded data removed]",
      "text/latex": [
       "$\\displaystyle \\left[\\begin{matrix}1 & 2 & 3\\\\2 & 1 & 2\\\\1 & -2 & 1\\end{matrix}\\right]$"
      ],
      "text/plain": [
       "⎡1  2   3⎤\n",
       "⎢        ⎥\n",
       "⎢2  1   2⎥\n",
       "⎢        ⎥\n",
       "⎣1  -2  1⎦"
      ]
     },
     "execution_count": 5,
     "metadata": {},
     "output_type": "execute_result"
    }
   ],
   "source": [
    "M2 = sp.Matrix([[1,2,3],[2,1,2],[1,-2,1]])\n",
    "M2"
   ]
  },
  {
   "cell_type": "code",
   "execution_count": 6,
   "id": "c0ce6c48",
   "metadata": {},
   "outputs": [
    {
     "data": {
      "image/png": "[encoded data removed]",
      "text/latex": [
       "$\\displaystyle -10$"
      ],
      "text/plain": [
       "-10"
      ]
     },
     "execution_count": 6,
     "metadata": {},
     "output_type": "execute_result"
    }
   ],
   "source": [
    "sp.det(M2)"
   ]
  },
  {
   "cell_type": "code",
   "execution_count": 7,
   "id": "1184c5db",
   "metadata": {},
   "outputs": [
    {
     "data": {
      "image/png": "[encoded data removed]",
      "text/latex": [
       "$\\displaystyle -10$"
      ],
      "text/plain": [
       "-10"
      ]
     },
     "execution_count": 7,
     "metadata": {},
     "output_type": "execute_result"
    }
   ],
   "source": [
    "M2.det()"
   ]
  },
  {
   "cell_type": "code",
   "execution_count": 8,
   "id": "59fc1b3d",
   "metadata": {},
   "outputs": [
    {
     "data": {
      "image/png": "[encoded data removed]",
      "text/latex": [
       "$\\displaystyle \\left[\\begin{matrix}1 & 0 & 0\\\\0 & 2 & 0\\\\0 & 0 & 3\\end{matrix}\\right]$"
      ],
      "text/plain": [
       "⎡1  0  0⎤\n",
       "⎢       ⎥\n",
       "⎢0  2  0⎥\n",
       "⎢       ⎥\n",
       "⎣0  0  3⎦"
      ]
     },
     "execution_count": 8,
     "metadata": {},
     "output_type": "execute_result"
    }
   ],
   "source": [
    "M3 = sp.diag(1,2,3)\n",
    "M3"
   ]
  },
  {
   "cell_type": "code",
   "execution_count": 9,
   "id": "15c82467",
   "metadata": {},
   "outputs": [
    {
     "data": {
      "image/png": "[encoded data removed]",
      "text/latex": [
       "$\\displaystyle 6$"
      ],
      "text/plain": [
       "6"
      ]
     },
     "execution_count": 9,
     "metadata": {},
     "output_type": "execute_result"
    }
   ],
   "source": [
    "sp.det(M3)"
   ]
  },
  {
   "cell_type": "markdown",
   "id": "0f185698",
   "metadata": {},
   "source": [
    "#### <span style=\"color:blue;\">2.3 Transpose of a Matrix</span>"
   ]
  },
  {
   "cell_type": "code",
   "execution_count": 10,
   "id": "2cce6f87",
   "metadata": {},
   "outputs": [
    {
     "data": {
      "image/png": "[encoded data removed]",
      "text/latex": [
       "$\\displaystyle \\left[\\begin{matrix}1 & 3 & 2\\\\4 & 5 & 1\\end{matrix}\\right]$"
      ],
      "text/plain": [
       "⎡1  3  2⎤\n",
       "⎢       ⎥\n",
       "⎣4  5  1⎦"
      ]
     },
     "execution_count": 10,
     "metadata": {},
     "output_type": "execute_result"
    }
   ],
   "source": [
    "M4 = sp.Matrix(2,3,[1,3,2,4,5,1])\n",
    "M4"
   ]
  },
  {
   "cell_type": "code",
   "execution_count": 11,
   "id": "4f4164ba",
   "metadata": {},
   "outputs": [
    {
     "data": {
      "image/png": "[encoded data removed]",
      "text/latex": [
       "$\\displaystyle \\left[\\begin{matrix}1 & 4\\\\3 & 5\\\\2 & 1\\end{matrix}\\right]$"
      ],
      "text/plain": [
       "⎡1  4⎤\n",
       "⎢    ⎥\n",
       "⎢3  5⎥\n",
       "⎢    ⎥\n",
       "⎣2  1⎦"
      ]
     },
     "execution_count": 11,
     "metadata": {},
     "output_type": "execute_result"
    }
   ],
   "source": [
    "M5=sp.transpose(M4)\n",
    "M5"
   ]
  },
  {
   "cell_type": "code",
   "execution_count": 14,
   "id": "9b899407",
   "metadata": {},
   "outputs": [
    {
     "data": {
      "image/png": "[encoded data removed]",
      "text/latex": [
       "$\\displaystyle \\left[\\begin{matrix}1 & 3 & 2\\\\4 & 5 & 1\\end{matrix}\\right]$"
      ],
      "text/plain": [
       "⎡1  3  2⎤\n",
       "⎢       ⎥\n",
       "⎣4  5  1⎦"
      ]
     },
     "execution_count": 14,
     "metadata": {},
     "output_type": "execute_result"
    }
   ],
   "source": [
    "M5.transpose() #this can also me used"
   ]
  },
  {
   "cell_type": "code",
   "execution_count": 15,
   "id": "815d70ec",
   "metadata": {},
   "outputs": [
    {
     "data": {
      "image/png": "[encoded data removed]",
      "text/latex": [
       "$\\displaystyle \\left[\\begin{matrix}1 & 3 & 2\\\\4 & 5 & 1\\end{matrix}\\right]$"
      ],
      "text/plain": [
       "⎡1  3  2⎤\n",
       "⎢       ⎥\n",
       "⎣4  5  1⎦"
      ]
     },
     "execution_count": 15,
     "metadata": {},
     "output_type": "execute_result"
    }
   ],
   "source": [
    "M5.T # this can also be used"
   ]
  },
  {
   "cell_type": "markdown",
   "id": "b49e72f4",
   "metadata": {},
   "source": [
    "#### <span style=\"color:blue;\">2.4 Power of a Matrix</span>"
   ]
  },
  {
   "cell_type": "code",
   "execution_count": 16,
   "id": "8352bacb",
   "metadata": {},
   "outputs": [
    {
     "data": {
      "image/png": "[encoded data removed]",
      "text/latex": [
       "$\\displaystyle \\left[\\begin{matrix}1 & 2 & 3\\\\1 & 4 & 6\\\\1 & 2 & 0\\end{matrix}\\right]$"
      ],
      "text/plain": [
       "⎡1  2  3⎤\n",
       "⎢       ⎥\n",
       "⎢1  4  6⎥\n",
       "⎢       ⎥\n",
       "⎣1  2  0⎦"
      ]
     },
     "execution_count": 16,
     "metadata": {},
     "output_type": "execute_result"
    }
   ],
   "source": [
    "M6 = sp.Matrix(3,3,[1,2,3,1,4,6,1,2,0])\n",
    "M6"
   ]
  },
  {
   "cell_type": "code",
   "execution_count": 18,
   "id": "6aedda29",
   "metadata": {},
   "outputs": [
    {
     "data": {
      "image/png": "[encoded data removed]",
      "text/latex": [
       "$\\displaystyle \\left[\\begin{matrix}6 & 16 & 15\\\\11 & 30 & 27\\\\3 & 10 & 15\\end{matrix}\\right]$"
      ],
      "text/plain": [
       "⎡6   16  15⎤\n",
       "⎢          ⎥\n",
       "⎢11  30  27⎥\n",
       "⎢          ⎥\n",
       "⎣3   10  15⎦"
      ]
     },
     "execution_count": 18,
     "metadata": {},
     "output_type": "execute_result"
    }
   ],
   "source": [
    "M6**2 #Matrix M6 to the power of 2"
   ]
  },
  {
   "cell_type": "code",
   "execution_count": 20,
   "id": "5ec4617d",
   "metadata": {},
   "outputs": [
    {
     "data": {
      "image/png": "[encoded data removed]",
      "text/latex": [
       "$\\displaystyle \\left[\\begin{matrix}24934833 & 70711222 & 73548483\\\\46195061 & 131001666 & 136257516\\\\17289861 & 49032322 & 51002772\\end{matrix}\\right]$"
      ],
      "text/plain": [
       "⎡24934833  70711222   73548483 ⎤\n",
       "⎢                              ⎥\n",
       "⎢46195061  131001666  136257516⎥\n",
       "⎢                              ⎥\n",
       "⎣17289861  49032322   51002772 ⎦"
      ]
     },
     "execution_count": 20,
     "metadata": {},
     "output_type": "execute_result"
    }
   ],
   "source": [
    "M6**10 #Matrix M6 multiplied 10 times"
   ]
  },
  {
   "cell_type": "markdown",
   "id": "791e36b4",
   "metadata": {},
   "source": [
    "#### <span style=\"color:blue;\">2.5 Inverse of a Matrix</span>"
   ]
  },
  {
   "cell_type": "code",
   "execution_count": 21,
   "id": "645a6ba4",
   "metadata": {},
   "outputs": [
    {
     "data": {
      "image/png": "[encoded data removed]",
      "text/latex": [
       "$\\displaystyle \\left[\\begin{matrix}1 & 2 & 3\\\\3 & 2 & 1\\\\1 & 1 & 0\\end{matrix}\\right]$"
      ],
      "text/plain": [
       "⎡1  2  3⎤\n",
       "⎢       ⎥\n",
       "⎢3  2  1⎥\n",
       "⎢       ⎥\n",
       "⎣1  1  0⎦"
      ]
     },
     "execution_count": 21,
     "metadata": {},
     "output_type": "execute_result"
    }
   ],
   "source": [
    "M7 = sp.Matrix([[1,2,3],[3,2,1],[1,1,0]])\n",
    "M7"
   ]
  },
  {
   "cell_type": "code",
   "execution_count": 22,
   "id": "36308c14",
   "metadata": {},
   "outputs": [
    {
     "data": {
      "image/png": "[encoded data removed]",
      "text/latex": [
       "$\\displaystyle \\left[\\begin{matrix}- \\frac{1}{4} & \\frac{3}{4} & -1\\\\\\frac{1}{4} & - \\frac{3}{4} & 2\\\\\\frac{1}{4} & \\frac{1}{4} & -1\\end{matrix}\\right]$"
      ],
      "text/plain": [
       "⎡-1/4  3/4   -1⎤\n",
       "⎢              ⎥\n",
       "⎢1/4   -3/4  2 ⎥\n",
       "⎢              ⎥\n",
       "⎣1/4   1/4   -1⎦"
      ]
     },
     "execution_count": 22,
     "metadata": {},
     "output_type": "execute_result"
    }
   ],
   "source": [
    "M7.inv()"
   ]
  },
  {
   "cell_type": "markdown",
   "id": "c072452a",
   "metadata": {},
   "source": [
    "#### <span style=\"color:blue;\">2.6 Adding, subtracting and constant multiplication of two Matrices</span>"
   ]
  },
  {
   "cell_type": "code",
   "execution_count": 24,
   "id": "e7c4374d",
   "metadata": {},
   "outputs": [
    {
     "data": {
      "text/plain": [
       "'A = '"
      ]
     },
     "metadata": {},
     "output_type": "display_data"
    },
    {
     "data": {
      "image/png": "[encoded data removed]",
      "text/latex": [
       "$\\displaystyle \\left[\\begin{matrix}1 & 2 & 1 & 2\\\\1 & 2 & 1 & 2\\\\1 & 2 & 1 & 2\\end{matrix}\\right]$"
      ],
      "text/plain": [
       "⎡1  2  1  2⎤\n",
       "⎢          ⎥\n",
       "⎢1  2  1  2⎥\n",
       "⎢          ⎥\n",
       "⎣1  2  1  2⎦"
      ]
     },
     "metadata": {},
     "output_type": "display_data"
    },
    {
     "data": {
      "text/plain": [
       "'B = '"
      ]
     },
     "metadata": {},
     "output_type": "display_data"
    },
    {
     "data": {
      "image/png": "[encoded data removed]",
      "text/latex": [
       "$\\displaystyle \\left[\\begin{matrix}2 & 1 & 2 & 1\\\\2 & 1 & 2 & 1\\\\2 & 1 & 2 & 1\\end{matrix}\\right]$"
      ],
      "text/plain": [
       "⎡2  1  2  1⎤\n",
       "⎢          ⎥\n",
       "⎢2  1  2  1⎥\n",
       "⎢          ⎥\n",
       "⎣2  1  2  1⎦"
      ]
     },
     "metadata": {},
     "output_type": "display_data"
    }
   ],
   "source": [
    "A = sp.Matrix(3,4,[1,2,1,2,1,2,1,2,1,2,1,2])\n",
    "B = sp.Matrix(3,4,[2,1,2,1,2,1,2,1,2,1,2,1])\n",
    "display(\"A = \",A)\n",
    "display(\"B = \",B)"
   ]
  },
  {
   "cell_type": "code",
   "execution_count": 25,
   "id": "209e7644",
   "metadata": {},
   "outputs": [
    {
     "data": {
      "image/png": "[encoded data removed]",
      "text/latex": [
       "$\\displaystyle \\left[\\begin{matrix}3 & 3 & 3 & 3\\\\3 & 3 & 3 & 3\\\\3 & 3 & 3 & 3\\end{matrix}\\right]$"
      ],
      "text/plain": [
       "⎡3  3  3  3⎤\n",
       "⎢          ⎥\n",
       "⎢3  3  3  3⎥\n",
       "⎢          ⎥\n",
       "⎣3  3  3  3⎦"
      ]
     },
     "execution_count": 25,
     "metadata": {},
     "output_type": "execute_result"
    }
   ],
   "source": [
    "#Add two matrices A and B\n",
    "A+B"
   ]
  },
  {
   "cell_type": "code",
   "execution_count": 26,
   "id": "c500db32",
   "metadata": {},
   "outputs": [
    {
     "data": {
      "image/png": "[encoded data removed]",
      "text/latex": [
       "$\\displaystyle \\left[\\begin{matrix}-1 & 1 & -1 & 1\\\\-1 & 1 & -1 & 1\\\\-1 & 1 & -1 & 1\\end{matrix}\\right]$"
      ],
      "text/plain": [
       "⎡-1  1  -1  1⎤\n",
       "⎢            ⎥\n",
       "⎢-1  1  -1  1⎥\n",
       "⎢            ⎥\n",
       "⎣-1  1  -1  1⎦"
      ]
     },
     "execution_count": 26,
     "metadata": {},
     "output_type": "execute_result"
    }
   ],
   "source": [
    "A-B"
   ]
  },
  {
   "cell_type": "code",
   "execution_count": 27,
   "id": "3cae94e3",
   "metadata": {},
   "outputs": [
    {
     "data": {
      "image/png": "[encoded data removed]",
      "text/latex": [
       "$\\displaystyle \\left[\\begin{matrix}5 & 10 & 5 & 10\\\\5 & 10 & 5 & 10\\\\5 & 10 & 5 & 10\\end{matrix}\\right]$"
      ],
      "text/plain": [
       "⎡5  10  5  10⎤\n",
       "⎢            ⎥\n",
       "⎢5  10  5  10⎥\n",
       "⎢            ⎥\n",
       "⎣5  10  5  10⎦"
      ]
     },
     "execution_count": 27,
     "metadata": {},
     "output_type": "execute_result"
    }
   ],
   "source": [
    "5*A"
   ]
  },
  {
   "cell_type": "markdown",
   "id": "2668ed1b",
   "metadata": {},
   "source": [
    "#### <span style=\"color:blue;\">2.7 Multiplying two matrices</span>"
   ]
  },
  {
   "cell_type": "code",
   "execution_count": 28,
   "id": "b872c90d",
   "metadata": {},
   "outputs": [
    {
     "data": {
      "image/png": "[encoded data removed]",
      "text/latex": [
       "$\\displaystyle \\left[\\begin{matrix}2 & 1 & 2\\\\1 & 2 & 1\\end{matrix}\\right]$"
      ],
      "text/plain": [
       "⎡2  1  2⎤\n",
       "⎢       ⎥\n",
       "⎣1  2  1⎦"
      ]
     },
     "metadata": {},
     "output_type": "display_data"
    },
    {
     "data": {
      "image/png": "[encoded data removed]",
      "text/latex": [
       "$\\displaystyle \\left[\\begin{matrix}1 & 2 & 1 & 2\\\\1 & 2 & 1 & 2\\\\1 & 2 & 1 & 2\\end{matrix}\\right]$"
      ],
      "text/plain": [
       "⎡1  2  1  2⎤\n",
       "⎢          ⎥\n",
       "⎢1  2  1  2⎥\n",
       "⎢          ⎥\n",
       "⎣1  2  1  2⎦"
      ]
     },
     "metadata": {},
     "output_type": "display_data"
    }
   ],
   "source": [
    "M1 = sp.Matrix(2,3,[2,1,2,1,2,1])\n",
    "M2 = sp.Matrix(3,4,[1,2,1,2,1,2,1,2,1,2,1,2])\n",
    "display(M1)\n",
    "display(M2)"
   ]
  },
  {
   "cell_type": "code",
   "execution_count": 29,
   "id": "fae36f54",
   "metadata": {},
   "outputs": [
    {
     "data": {
      "image/png": "[encoded data removed]",
      "text/latex": [
       "$\\displaystyle \\left[\\begin{matrix}5 & 10 & 5 & 10\\\\4 & 8 & 4 & 8\\end{matrix}\\right]$"
      ],
      "text/plain": [
       "⎡5  10  5  10⎤\n",
       "⎢            ⎥\n",
       "⎣4  8   4  8 ⎦"
      ]
     },
     "execution_count": 29,
     "metadata": {},
     "output_type": "execute_result"
    }
   ],
   "source": [
    "M1*M2"
   ]
  },
  {
   "cell_type": "markdown",
   "id": "2bb8ef0c",
   "metadata": {},
   "source": [
    "#### <span style=\"color:blue;\">2.8 Rank of a Matrix</span>"
   ]
  },
  {
   "cell_type": "code",
   "execution_count": 31,
   "id": "c2a12e50",
   "metadata": {},
   "outputs": [
    {
     "data": {
      "image/png": "[encoded data removed]",
      "text/latex": [
       "$\\displaystyle \\left[\\begin{matrix}1 & 2 & 3\\\\4 & 5 & 6\\\\7 & 8 & 9\\end{matrix}\\right]$"
      ],
      "text/plain": [
       "⎡1  2  3⎤\n",
       "⎢       ⎥\n",
       "⎢4  5  6⎥\n",
       "⎢       ⎥\n",
       "⎣7  8  9⎦"
      ]
     },
     "execution_count": 31,
     "metadata": {},
     "output_type": "execute_result"
    }
   ],
   "source": [
    "M3 = sp.Matrix(3,3,[1,2,3,4,5,6,7,8,9])\n",
    "M3"
   ]
  },
  {
   "cell_type": "code",
   "execution_count": 32,
   "id": "3cf73022",
   "metadata": {},
   "outputs": [
    {
     "data": {
      "image/png": "[encoded data removed]",
      "text/latex": [
       "$\\displaystyle 2$"
      ],
      "text/plain": [
       "2"
      ]
     },
     "execution_count": 32,
     "metadata": {},
     "output_type": "execute_result"
    }
   ],
   "source": [
    "M3.rank()"
   ]
  },
  {
   "cell_type": "code",
   "execution_count": null,
   "id": "b6f5d55f",
   "metadata": {},
   "outputs": [],
   "source": []
  }
 ],
 "metadata": {
  "kernelspec": {
   "display_name": "Python 3 (ipykernel)",
   "language": "python",
   "name": "python3"
  },
  "language_info": {
   "codemirror_mode": {
    "name": "ipython",
    "version": 3
   },
   "file_extension": ".py",
   "mimetype": "text/x-python",
   "name": "python",
   "nbconvert_exporter": "python",
   "pygments_lexer": "ipython3",
   "version": "3.10.9"
  }
 },
 "nbformat": 4,
 "nbformat_minor": 5
}
