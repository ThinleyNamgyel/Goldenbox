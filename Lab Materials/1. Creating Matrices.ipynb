{
 "cells": [
  {
   "cell_type": "markdown",
   "id": "b5f8f323",
   "metadata": {},
   "source": [
    "## 1. Creating Matrices"
   ]
  },
  {
   "cell_type": "markdown",
   "id": "2f0f8548",
   "metadata": {},
   "source": [
    "#### <span style=\"color:blue\">1.1 Creating matrices using numpy library</span>"
   ]
  },
  {
   "cell_type": "code",
   "execution_count": 1,
   "id": "fa708475",
   "metadata": {},
   "outputs": [
    {
     "name": "stdout",
     "output_type": "stream",
     "text": [
      "[[ 2  1  0]\n",
      " [ 1 -1  2]]\n"
     ]
    }
   ],
   "source": [
    "import numpy as np\n",
    "A = np.array([[2,1,0],[1,-1,2]]) #Create Matrix A of size 2x3\n",
    "print(A)"
   ]
  },
  {
   "cell_type": "code",
   "execution_count": 2,
   "id": "13e24025",
   "metadata": {},
   "outputs": [
    {
     "name": "stdout",
     "output_type": "stream",
     "text": [
      "[[1 1 3]\n",
      " [2 1 0]]\n"
     ]
    }
   ],
   "source": [
    "B = np.array([[1,1,3],[2,1,0]])\n",
    "print(B)"
   ]
  },
  {
   "cell_type": "markdown",
   "id": "f7119f31",
   "metadata": {},
   "source": [
    "#### <span style=\"color:blue\">1.2 Creating Matrices using sympy library</span>"
   ]
  },
  {
   "cell_type": "code",
   "execution_count": 3,
   "id": "7176ef4c",
   "metadata": {},
   "outputs": [
    {
     "data": {
      "text/latex": [
       "$\\displaystyle \\left[\\begin{matrix}-1 & 7 & -1\\\\0 & 1 & 0\\\\0 & 15 & -2\\end{matrix}\\right]$"
      ],
      "text/plain": [
       "Matrix([\n",
       "[-1,  7, -1],\n",
       "[ 0,  1,  0],\n",
       "[ 0, 15, -2]])"
      ]
     },
     "execution_count": 3,
     "metadata": {},
     "output_type": "execute_result"
    }
   ],
   "source": [
    "import sympy as sp\n",
    "#sp.init_printing()\n",
    "\n",
    "M = sp.Matrix([[-1,7,-1],[0,1,0],[0,15,-2]])\n",
    "M"
   ]
  },
  {
   "cell_type": "code",
   "execution_count": 4,
   "id": "ed3ad67f",
   "metadata": {},
   "outputs": [
    {
     "data": {
      "text/latex": [
       "$\\displaystyle \\left[\\begin{matrix}0 & 0 & -2\\\\1 & 2 & 1\\\\1 & 0 & 3\\end{matrix}\\right]$"
      ],
      "text/plain": [
       "Matrix([\n",
       "[0, 0, -2],\n",
       "[1, 2,  1],\n",
       "[1, 0,  3]])"
      ]
     },
     "execution_count": 4,
     "metadata": {},
     "output_type": "execute_result"
    }
   ],
   "source": [
    "#Create matrix by providing dimension\n",
    "N = sp.Matrix(3,3,[0,0,-2,1,2,1,1,0,3])\n",
    "N"
   ]
  },
  {
   "cell_type": "code",
   "execution_count": 5,
   "id": "a525533e",
   "metadata": {},
   "outputs": [
    {
     "data": {
      "text/latex": [
       "$\\displaystyle \\left[\\begin{matrix}1 & 2 & 3\\\\1 & 2 & 3\\\\3 & 2 & 1\\\\3 & 4 & 5\\\\3 & 2 & 1\\end{matrix}\\right]$"
      ],
      "text/plain": [
       "Matrix([\n",
       "[1, 2, 3],\n",
       "[1, 2, 3],\n",
       "[3, 2, 1],\n",
       "[3, 4, 5],\n",
       "[3, 2, 1]])"
      ]
     },
     "metadata": {},
     "output_type": "display_data"
    }
   ],
   "source": [
    "P = sp.Matrix(5,3,[1,2,3,1,2,3,3,2,1,3,4,5,3,2,1])\n",
    "display(P)"
   ]
  },
  {
   "cell_type": "markdown",
   "id": "291a87bd",
   "metadata": {},
   "source": [
    "#### <span style=\"color:blue;\">1.3 Assessing rows and columns of a matrix</span>"
   ]
  },
  {
   "cell_type": "code",
   "execution_count": 6,
   "id": "160d4996",
   "metadata": {},
   "outputs": [
    {
     "data": {
      "text/latex": [
       "$\\displaystyle \\left[\\begin{matrix}1 & 2 & 3\\end{matrix}\\right]$"
      ],
      "text/plain": [
       "Matrix([[1, 2, 3]])"
      ]
     },
     "execution_count": 6,
     "metadata": {},
     "output_type": "execute_result"
    }
   ],
   "source": [
    "P.row(-4)"
   ]
  },
  {
   "cell_type": "code",
   "execution_count": 7,
   "id": "79f1f334",
   "metadata": {},
   "outputs": [
    {
     "data": {
      "text/latex": [
       "$\\displaystyle \\left[\\begin{matrix}2\\\\2\\\\2\\\\4\\\\2\\end{matrix}\\right]$"
      ],
      "text/plain": [
       "Matrix([\n",
       "[2],\n",
       "[2],\n",
       "[2],\n",
       "[4],\n",
       "[2]])"
      ]
     },
     "execution_count": 7,
     "metadata": {},
     "output_type": "execute_result"
    }
   ],
   "source": [
    "P.col(1)"
   ]
  },
  {
   "cell_type": "code",
   "execution_count": 8,
   "id": "36f0c3e2",
   "metadata": {},
   "outputs": [
    {
     "data": {
      "text/latex": [
       "$\\displaystyle 1$"
      ],
      "text/plain": [
       "1"
      ]
     },
     "execution_count": 8,
     "metadata": {},
     "output_type": "execute_result"
    }
   ],
   "source": [
    "#Accessing 3 row 3rd element\n",
    "P.row(2)[2]"
   ]
  },
  {
   "cell_type": "code",
   "execution_count": 9,
   "id": "ee647784",
   "metadata": {},
   "outputs": [
    {
     "data": {
      "text/latex": [
       "$\\displaystyle 4$"
      ],
      "text/plain": [
       "4"
      ]
     },
     "execution_count": 9,
     "metadata": {},
     "output_type": "execute_result"
    }
   ],
   "source": [
    "P.col(1)[3]"
   ]
  },
  {
   "cell_type": "markdown",
   "id": "9d82e51c",
   "metadata": {},
   "source": [
    "#### <span style=\"color:blue;\">1.4 Deleting and inserting rows and columns</span>"
   ]
  },
  {
   "cell_type": "code",
   "execution_count": 26,
   "id": "56cc2949",
   "metadata": {},
   "outputs": [
    {
     "data": {
      "text/latex": [
       "$\\displaystyle \\left[\\begin{matrix}1 & 5 & 3 & 9 & 0\\\\-2 & 1 & 3 & -7 & 3\\\\2 & 7 & 1 & 0 & -1\\\\3 & 6 & 5 & 4 & 2\\end{matrix}\\right]$"
      ],
      "text/plain": [
       "Matrix([\n",
       "[ 1, 5, 3,  9,  0],\n",
       "[-2, 1, 3, -7,  3],\n",
       "[ 2, 7, 1,  0, -1],\n",
       "[ 3, 6, 5,  4,  2]])"
      ]
     },
     "execution_count": 26,
     "metadata": {},
     "output_type": "execute_result"
    }
   ],
   "source": [
    "A = sp.Matrix(4,5,[1,5,3,9,0,-2,1,3,-7,3,2,7,1,0,-1,3,6,5,4,2])\n",
    "A"
   ]
  },
  {
   "cell_type": "code",
   "execution_count": 27,
   "id": "33ef3e6d",
   "metadata": {},
   "outputs": [
    {
     "data": {
      "text/latex": [
       "$\\displaystyle \\left[\\begin{matrix}1 & 5 & 3 & 9 & 0\\\\2 & 7 & 1 & 0 & -1\\\\3 & 6 & 5 & 4 & 2\\end{matrix}\\right]$"
      ],
      "text/plain": [
       "Matrix([\n",
       "[1, 5, 3, 9,  0],\n",
       "[2, 7, 1, 0, -1],\n",
       "[3, 6, 5, 4,  2]])"
      ]
     },
     "execution_count": 27,
     "metadata": {},
     "output_type": "execute_result"
    }
   ],
   "source": [
    "A.row_del(1)\n",
    "A"
   ]
  },
  {
   "cell_type": "code",
   "execution_count": 28,
   "id": "14d6b14e",
   "metadata": {},
   "outputs": [
    {
     "data": {
      "text/latex": [
       "$\\displaystyle \\left[\\begin{matrix}1 & 5 & 3 & 0\\\\2 & 7 & 1 & -1\\\\3 & 6 & 5 & 2\\end{matrix}\\right]$"
      ],
      "text/plain": [
       "Matrix([\n",
       "[1, 5, 3,  0],\n",
       "[2, 7, 1, -1],\n",
       "[3, 6, 5,  2]])"
      ]
     },
     "execution_count": 28,
     "metadata": {},
     "output_type": "execute_result"
    }
   ],
   "source": [
    "A.col_del(3)\n",
    "A"
   ]
  },
  {
   "cell_type": "code",
   "execution_count": 29,
   "id": "3c63eb81",
   "metadata": {},
   "outputs": [
    {
     "data": {
      "text/latex": [
       "$\\displaystyle \\left[\\begin{matrix}1 & 9 & 8 & 3\\\\2 & 0 & 9 & 0\\\\1 & 0 & 2 & 7\\\\3 & 5 & 0 & 1\\\\2 & 5 & 3 & 6\\end{matrix}\\right]$"
      ],
      "text/plain": [
       "Matrix([\n",
       "[1, 9, 8, 3],\n",
       "[2, 0, 9, 0],\n",
       "[1, 0, 2, 7],\n",
       "[3, 5, 0, 1],\n",
       "[2, 5, 3, 6]])"
      ]
     },
     "execution_count": 29,
     "metadata": {},
     "output_type": "execute_result"
    }
   ],
   "source": [
    "B = sp.Matrix(5,4,[1,9,8,3,2,0,9,0,1,0,2,7,3,5,0,1,2,5,3,6])\n",
    "B"
   ]
  },
  {
   "cell_type": "code",
   "execution_count": 30,
   "id": "71bea0fb",
   "metadata": {},
   "outputs": [
    {
     "data": {
      "text/latex": [
       "$\\displaystyle \\left[\\begin{matrix}-1 & 0 & 1 & 0\\\\1 & 9 & 8 & 3\\\\2 & 0 & 9 & 0\\\\1 & 0 & 2 & 7\\\\3 & 5 & 0 & 1\\\\2 & 5 & 3 & 6\\end{matrix}\\right]$"
      ],
      "text/plain": [
       "Matrix([\n",
       "[-1, 0, 1, 0],\n",
       "[ 1, 9, 8, 3],\n",
       "[ 2, 0, 9, 0],\n",
       "[ 1, 0, 2, 7],\n",
       "[ 3, 5, 0, 1],\n",
       "[ 2, 5, 3, 6]])"
      ]
     },
     "execution_count": 30,
     "metadata": {},
     "output_type": "execute_result"
    }
   ],
   "source": [
    "C = B.row_insert(0,sp.Matrix([[-1,0,1,0]]))\n",
    "C"
   ]
  },
  {
   "cell_type": "code",
   "execution_count": 31,
   "id": "dd40264c",
   "metadata": {},
   "outputs": [
    {
     "data": {
      "text/latex": [
       "$\\displaystyle \\left[\\begin{matrix}1 & 9 & 8 & 3 & -1\\\\2 & 0 & 9 & 0 & 1\\\\1 & 0 & 2 & 7 & 0\\\\3 & 5 & 0 & 1 & 1\\\\2 & 5 & 3 & 6 & -1\\end{matrix}\\right]$"
      ],
      "text/plain": [
       "Matrix([\n",
       "[1, 9, 8, 3, -1],\n",
       "[2, 0, 9, 0,  1],\n",
       "[1, 0, 2, 7,  0],\n",
       "[3, 5, 0, 1,  1],\n",
       "[2, 5, 3, 6, -1]])"
      ]
     },
     "execution_count": 31,
     "metadata": {},
     "output_type": "execute_result"
    }
   ],
   "source": [
    "D = B.col_insert(4,sp.Matrix([-1,1,0,1,-1]))\n",
    "D"
   ]
  },
  {
   "cell_type": "markdown",
   "id": "2766449b",
   "metadata": {},
   "source": [
    "#### <span style=\"color:blue;\">1.5 Getting dimension/size of the matrix</span>"
   ]
  },
  {
   "cell_type": "code",
   "execution_count": 32,
   "id": "4daeea75",
   "metadata": {},
   "outputs": [
    {
     "data": {
      "text/plain": [
       "(5, 4)"
      ]
     },
     "execution_count": 32,
     "metadata": {},
     "output_type": "execute_result"
    }
   ],
   "source": [
    "sp.shape(B)"
   ]
  },
  {
   "cell_type": "markdown",
   "id": "ccfbff1e",
   "metadata": {},
   "source": [
    "#### <span style=\"color:blue;\">1.7 Matrix constructors for common matrices</span>"
   ]
  },
  {
   "cell_type": "code",
   "execution_count": 34,
   "id": "d7056c40",
   "metadata": {},
   "outputs": [
    {
     "data": {
      "text/latex": [
       "$\\displaystyle \\left[\\begin{matrix}1 & 0 & 0\\\\0 & 1 & 0\\\\0 & 0 & 1\\end{matrix}\\right]$"
      ],
      "text/plain": [
       "Matrix([\n",
       "[1, 0, 0],\n",
       "[0, 1, 0],\n",
       "[0, 0, 1]])"
      ]
     },
     "execution_count": 34,
     "metadata": {},
     "output_type": "execute_result"
    }
   ],
   "source": [
    "#Create identity matrix of size 3\n",
    "\n",
    "M1 = sp.eye(3)\n",
    "M1"
   ]
  },
  {
   "cell_type": "code",
   "execution_count": 35,
   "id": "6e4d223c",
   "metadata": {},
   "outputs": [
    {
     "data": {
      "text/latex": [
       "$\\displaystyle \\left[\\begin{matrix}0 & 0 & 0\\\\0 & 0 & 0\\end{matrix}\\right]$"
      ],
      "text/plain": [
       "Matrix([\n",
       "[0, 0, 0],\n",
       "[0, 0, 0]])"
      ]
     },
     "execution_count": 35,
     "metadata": {},
     "output_type": "execute_result"
    }
   ],
   "source": [
    "M2 = sp.zeros(2,3)\n",
    "M2"
   ]
  },
  {
   "cell_type": "code",
   "execution_count": 36,
   "id": "5646f69d",
   "metadata": {},
   "outputs": [
    {
     "data": {
      "text/latex": [
       "$\\displaystyle \\left[\\begin{matrix}1 & 1 & 1 & 1 & 1\\\\1 & 1 & 1 & 1 & 1\\\\1 & 1 & 1 & 1 & 1\\\\1 & 1 & 1 & 1 & 1\\end{matrix}\\right]$"
      ],
      "text/plain": [
       "Matrix([\n",
       "[1, 1, 1, 1, 1],\n",
       "[1, 1, 1, 1, 1],\n",
       "[1, 1, 1, 1, 1],\n",
       "[1, 1, 1, 1, 1]])"
      ]
     },
     "execution_count": 36,
     "metadata": {},
     "output_type": "execute_result"
    }
   ],
   "source": [
    "M3 = sp.ones(4,5)\n",
    "M3"
   ]
  },
  {
   "cell_type": "code",
   "execution_count": 37,
   "id": "720defcb",
   "metadata": {},
   "outputs": [
    {
     "data": {
      "text/latex": [
       "$\\displaystyle \\left[\\begin{matrix}1 & 0 & 0 & 0\\\\0 & 2 & 0 & 0\\\\0 & 0 & 3 & 0\\\\0 & 0 & 0 & 4\\end{matrix}\\right]$"
      ],
      "text/plain": [
       "Matrix([\n",
       "[1, 0, 0, 0],\n",
       "[0, 2, 0, 0],\n",
       "[0, 0, 3, 0],\n",
       "[0, 0, 0, 4]])"
      ]
     },
     "execution_count": 37,
     "metadata": {},
     "output_type": "execute_result"
    }
   ],
   "source": [
    "M4 = sp.diag(1,2,3,4)\n",
    "M4"
   ]
  },
  {
   "cell_type": "code",
   "execution_count": null,
   "id": "8ed26b86",
   "metadata": {},
   "outputs": [],
   "source": []
  }
 ],
 "metadata": {
  "kernelspec": {
   "display_name": "Python 3 (ipykernel)",
   "language": "python",
   "name": "python3"
  },
  "language_info": {
   "codemirror_mode": {
    "name": "ipython",
    "version": 3
   },
   "file_extension": ".py",
   "mimetype": "text/x-python",
   "name": "python",
   "nbconvert_exporter": "python",
   "pygments_lexer": "ipython3",
   "version": "3.10.9"
  }
 },
 "nbformat": 4,
 "nbformat_minor": 5
}
