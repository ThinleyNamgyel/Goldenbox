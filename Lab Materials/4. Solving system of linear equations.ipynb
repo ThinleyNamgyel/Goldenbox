{
 "cells": [
  {
   "cell_type": "markdown",
   "id": "65d52f12",
   "metadata": {},
   "source": [
    "## 4. Solving System of Linear Equations"
   ]
  },
  {
   "cell_type": "markdown",
   "id": "b85d7cb0",
   "metadata": {},
   "source": [
    "#### <span style=\"color:blue;\">4.1 Creating Polynomial Equations and solving for roots</span>"
   ]
  },
  {
   "cell_type": "code",
   "execution_count": 1,
   "id": "d64efc1e",
   "metadata": {},
   "outputs": [],
   "source": [
    "import sympy as sp\n",
    "sp.init_printing()"
   ]
  },
  {
   "cell_type": "code",
   "execution_count": 2,
   "id": "35bb30ad",
   "metadata": {},
   "outputs": [],
   "source": [
    "#Defining symbols\n",
    "x,y,z = sp.symbols(\"x,y,z\")"
   ]
  },
  {
   "cell_type": "code",
   "execution_count": 9,
   "id": "866b4f35",
   "metadata": {},
   "outputs": [
    {
     "data": {
      "image/png": "[encoded data removed]",
      "text/latex": [
       "$\\displaystyle x^{2} - 2 x + 3 = 0$"
      ],
      "text/plain": [
       " 2              \n",
       "x  - 2⋅x + 3 = 0"
      ]
     },
     "execution_count": 9,
     "metadata": {},
     "output_type": "execute_result"
    }
   ],
   "source": [
    "#Creating equation\n",
    "eq1 = sp.Eq(x**2-2*x+3,0)\n",
    "eq1"
   ]
  },
  {
   "cell_type": "code",
   "execution_count": 4,
   "id": "5ff7df73",
   "metadata": {},
   "outputs": [
    {
     "data": {
      "image/png": "[encoded data removed]",
      "text/latex": [
       "$\\displaystyle \\text{False}$"
      ],
      "text/plain": [
       "False"
      ]
     },
     "execution_count": 4,
     "metadata": {},
     "output_type": "execute_result"
    }
   ],
   "source": [
    "#Substituting value for x in the equarion\n",
    "eq1.subs(x,2)"
   ]
  },
  {
   "cell_type": "code",
   "execution_count": 11,
   "id": "4b9b6db4",
   "metadata": {},
   "outputs": [
    {
     "data": {
      "image/png": "[encoded data removed]",
      "text/latex": [
       "$\\displaystyle \\left\\{1 - \\sqrt{2} i, 1 + \\sqrt{2} i\\right\\}$"
      ],
      "text/plain": [
       "{1 - √2⋅ⅈ, 1 + √2⋅ⅈ}"
      ]
     },
     "execution_count": 11,
     "metadata": {},
     "output_type": "execute_result"
    }
   ],
   "source": [
    "#Solving equation/Finding root\n",
    "sp.solveset(eq1,x)"
   ]
  },
  {
   "cell_type": "code",
   "execution_count": 12,
   "id": "dfdf7321",
   "metadata": {},
   "outputs": [
    {
     "data": {
      "image/png": "[encoded data removed]",
      "text/latex": [
       "$\\displaystyle x^{2} - 4 = 0$"
      ],
      "text/plain": [
       " 2        \n",
       "x  - 4 = 0"
      ]
     },
     "execution_count": 12,
     "metadata": {},
     "output_type": "execute_result"
    }
   ],
   "source": [
    "eq2 = sp.Eq(x**2-4,0)\n",
    "eq2"
   ]
  },
  {
   "cell_type": "code",
   "execution_count": 21,
   "id": "40951f1b",
   "metadata": {},
   "outputs": [
    {
     "data": {
      "image/png": "[encoded data removed]",
      "text/latex": [
       "$\\displaystyle \\left(x - 2\\right) \\left(x + 2\\right) = 0$"
      ],
      "text/plain": [
       "(x - 2)⋅(x + 2) = 0"
      ]
     },
     "execution_count": 21,
     "metadata": {},
     "output_type": "execute_result"
    }
   ],
   "source": [
    "eq3=sp.factor(eq2)\n",
    "eq3"
   ]
  },
  {
   "cell_type": "code",
   "execution_count": 22,
   "id": "0cca645f",
   "metadata": {},
   "outputs": [
    {
     "data": {
      "image/png": "[encoded data removed]",
      "text/latex": [
       "$\\displaystyle x^{2} - 4 = 0$"
      ],
      "text/plain": [
       " 2        \n",
       "x  - 4 = 0"
      ]
     },
     "execution_count": 22,
     "metadata": {},
     "output_type": "execute_result"
    }
   ],
   "source": [
    "sp.expand(eq3)"
   ]
  },
  {
   "cell_type": "code",
   "execution_count": 24,
   "id": "d7f1c8fd",
   "metadata": {},
   "outputs": [
    {
     "data": {
      "image/png": "[encoded data removed]",
      "text/latex": [
       "$\\displaystyle x^{2} = 4$"
      ],
      "text/plain": [
       " 2    \n",
       "x  = 4"
      ]
     },
     "execution_count": 24,
     "metadata": {},
     "output_type": "execute_result"
    }
   ],
   "source": [
    "sp.simplify(eq3)"
   ]
  },
  {
   "cell_type": "code",
   "execution_count": 25,
   "id": "a2160774",
   "metadata": {},
   "outputs": [
    {
     "data": {
      "image/png": "[encoded data removed]",
      "text/latex": [
       "$\\displaystyle \\left\\{-2, 2\\right\\}$"
      ],
      "text/plain": [
       "{-2, 2}"
      ]
     },
     "execution_count": 25,
     "metadata": {},
     "output_type": "execute_result"
    }
   ],
   "source": [
    "sp.solveset(eq2)"
   ]
  },
  {
   "cell_type": "code",
   "execution_count": 14,
   "id": "0fbff3d3",
   "metadata": {},
   "outputs": [
    {
     "data": {
      "image/png": "[encoded data removed]",
      "text/latex": [
       "$\\displaystyle \\frac{x - 1}{2 x^{2} - 7 x + 5} = 0$"
      ],
      "text/plain": [
       "    x - 1         \n",
       "────────────── = 0\n",
       "   2              \n",
       "2⋅x  - 7⋅x + 5    "
      ]
     },
     "execution_count": 14,
     "metadata": {},
     "output_type": "execute_result"
    }
   ],
   "source": [
    "eq3=sp.Eq((x-1)/(2*x**2-7*x+5),0)\n",
    "eq3"
   ]
  },
  {
   "cell_type": "code",
   "execution_count": 15,
   "id": "7e0fac83",
   "metadata": {},
   "outputs": [
    {
     "data": {
      "image/png": "[encoded data removed]",
      "text/latex": [
       "$\\displaystyle \\frac{1}{2 x - 5} = 0$"
      ],
      "text/plain": [
       "   1       \n",
       "─────── = 0\n",
       "2⋅x - 5    "
      ]
     },
     "execution_count": 15,
     "metadata": {},
     "output_type": "execute_result"
    }
   ],
   "source": [
    "sp.simplify(eq3)"
   ]
  },
  {
   "cell_type": "code",
   "execution_count": 16,
   "id": "812a04d0",
   "metadata": {},
   "outputs": [
    {
     "data": {
      "image/png": "[encoded data removed]",
      "text/latex": [
       "$\\displaystyle \\frac{1}{2 x - 5} = 0$"
      ],
      "text/plain": [
       "   1       \n",
       "─────── = 0\n",
       "2⋅x - 5    "
      ]
     },
     "execution_count": 16,
     "metadata": {},
     "output_type": "execute_result"
    }
   ],
   "source": [
    "eq4=sp.factor(eq3)\n",
    "eq4"
   ]
  },
  {
   "cell_type": "code",
   "execution_count": 17,
   "id": "b8012efe",
   "metadata": {},
   "outputs": [
    {
     "data": {
      "image/png": "[encoded data removed]",
      "text/latex": [
       "$\\displaystyle \\frac{1}{2 x - 5} = 0$"
      ],
      "text/plain": [
       "   1       \n",
       "─────── = 0\n",
       "2⋅x - 5    "
      ]
     },
     "execution_count": 17,
     "metadata": {},
     "output_type": "execute_result"
    }
   ],
   "source": [
    "sp.expand(eq4)"
   ]
  },
  {
   "cell_type": "code",
   "execution_count": 18,
   "id": "8cc979bf",
   "metadata": {},
   "outputs": [
    {
     "data": {
      "image/png": "[encoded data removed]",
      "text/latex": [
       "$\\displaystyle \\emptyset$"
      ],
      "text/plain": [
       "∅"
      ]
     },
     "execution_count": 18,
     "metadata": {},
     "output_type": "execute_result"
    }
   ],
   "source": [
    "soln=sp.solveset(eq3,x)\n",
    "soln"
   ]
  },
  {
   "cell_type": "markdown",
   "id": "7567b1b4",
   "metadata": {},
   "source": [
    "#### <span style=\"color:blue;\">4.2 Creating system of linear Equations and solving</span>\n",
    "\n",
    "Solve the system of linear equations \n",
    "$$\n",
    "\\begin{eqnarray*}\n",
    "x-y+z&=&13\\\\\n",
    "2x+5y-3z&=&-13\\\\\n",
    "4x-y-6z&=&-4\n",
    "\\end{eqnarray*}\n",
    "$$"
   ]
  },
  {
   "cell_type": "code",
   "execution_count": 3,
   "id": "79bb08d9",
   "metadata": {},
   "outputs": [],
   "source": [
    "#Defining symbols\n",
    "\n",
    "x,y,z=sp.symbols(\"x,y,z\")"
   ]
  },
  {
   "cell_type": "code",
   "execution_count": 20,
   "id": "18d2d898",
   "metadata": {},
   "outputs": [
    {
     "data": {
      "image/png": "[encoded data removed]",
      "text/latex": [
       "$\\displaystyle \\left[ x - y + z - 13, \\  2 x + 5 y - 3 z + 13, \\  4 x - y - 6 z + 4\\right]$"
      ],
      "text/plain": [
       "[x - y + z - 13, 2⋅x + 5⋅y - 3⋅z + 13, 4⋅x - y - 6⋅z + 4]"
      ]
     },
     "metadata": {},
     "output_type": "display_data"
    }
   ],
   "source": [
    "#Creating system of equations (Method 1)\n",
    "system_eqn = [x-y+z-13,2*x+5*y-3*z+13,4*x-y-6*z+4]\n",
    "display(system_eqn)"
   ]
  },
  {
   "cell_type": "code",
   "execution_count": 21,
   "id": "5e53c789",
   "metadata": {},
   "outputs": [
    {
     "data": {
      "image/png": "[encoded data removed]",
      "text/latex": [
       "$\\displaystyle x - y + z = 13$"
      ],
      "text/plain": [
       "x - y + z = 13"
      ]
     },
     "metadata": {},
     "output_type": "display_data"
    },
    {
     "data": {
      "image/png": "[encoded data removed]",
      "text/latex": [
       "$\\displaystyle 2 x + 5 y - 3 z = -13$"
      ],
      "text/plain": [
       "2⋅x + 5⋅y - 3⋅z = -13"
      ]
     },
     "metadata": {},
     "output_type": "display_data"
    },
    {
     "data": {
      "image/png": "[encoded data removed]",
      "text/latex": [
       "$\\displaystyle 4 x - y - 6 z = -4$"
      ],
      "text/plain": [
       "4⋅x - y - 6⋅z = -4"
      ]
     },
     "metadata": {},
     "output_type": "display_data"
    },
    {
     "data": {
      "image/png": "[encoded data removed]",
      "text/latex": [
       "$\\displaystyle \\left[ x - y + z = 13, \\  2 x + 5 y - 3 z = -13, \\  4 x - y - 6 z = -4\\right]$"
      ],
      "text/plain": [
       "[x - y + z = 13, 2⋅x + 5⋅y - 3⋅z = -13, 4⋅x - y - 6⋅z = -4]"
      ]
     },
     "execution_count": 21,
     "metadata": {},
     "output_type": "execute_result"
    }
   ],
   "source": [
    "#Creating system of equations (Method 2)\n",
    "eqn1=sp.Eq(x-y+z,13)\n",
    "eqn2=sp.Eq(2*x+5*y-3*z,-13)\n",
    "eqn3=sp.Eq(4*x-y-6*z,-4)\n",
    "display(eqn1)\n",
    "display(eqn2)\n",
    "display(eqn3)\n",
    "system=[eqn1,eqn2,eqn3]\n",
    "system"
   ]
  },
  {
   "cell_type": "code",
   "execution_count": 22,
   "id": "ceea93f8",
   "metadata": {},
   "outputs": [
    {
     "data": {
      "image/png": "[encoded data removed]",
      "text/latex": [
       "$\\displaystyle \\left\\{ x : 6, \\  y : -2, \\  z : 5\\right\\}$"
      ],
      "text/plain": [
       "{x: 6, y: -2, z: 5}"
      ]
     },
     "metadata": {},
     "output_type": "display_data"
    }
   ],
   "source": [
    "#Solving system_eqn\n",
    "soln1 = sp.solve(system_eqn,x,y,z)\n",
    "display(soln1)"
   ]
  },
  {
   "cell_type": "code",
   "execution_count": 23,
   "id": "1ecd6ca2",
   "metadata": {},
   "outputs": [
    {
     "data": {
      "image/png": "[encoded data removed]",
      "text/latex": [
       "$\\displaystyle \\left\\{ x : 6, \\  y : -2, \\  z : 5\\right\\}$"
      ],
      "text/plain": [
       "{x: 6, y: -2, z: 5}"
      ]
     },
     "execution_count": 23,
     "metadata": {},
     "output_type": "execute_result"
    }
   ],
   "source": [
    "soln2=sp.solve([eqn1,eqn2,eqn3],x,y,z)\n",
    "soln2"
   ]
  },
  {
   "cell_type": "code",
   "execution_count": 24,
   "id": "3db15720",
   "metadata": {},
   "outputs": [
    {
     "data": {
      "image/png": "[encoded data removed]",
      "text/latex": [
       "$\\displaystyle \\text{True}$"
      ],
      "text/plain": [
       "True"
      ]
     },
     "execution_count": 24,
     "metadata": {},
     "output_type": "execute_result"
    }
   ],
   "source": [
    "#Substituting the solution in first equation\n",
    "eqn1.subs([(x,6),(y,-2),(z,5)])"
   ]
  },
  {
   "cell_type": "code",
   "execution_count": 25,
   "id": "4954387a",
   "metadata": {},
   "outputs": [
    {
     "data": {
      "image/png": "[encoded data removed]",
      "text/latex": [
       "$\\displaystyle \\text{True}$"
      ],
      "text/plain": [
       "True"
      ]
     },
     "execution_count": 25,
     "metadata": {},
     "output_type": "execute_result"
    }
   ],
   "source": [
    "#Substituting the solution in second equation\n",
    "eqn2.subs([(x,6),(y,-2),(z,5)])"
   ]
  },
  {
   "cell_type": "code",
   "execution_count": 26,
   "id": "20ddf497",
   "metadata": {},
   "outputs": [
    {
     "data": {
      "image/png": "[encoded data removed]",
      "text/latex": [
       "$\\displaystyle \\text{True}$"
      ],
      "text/plain": [
       "True"
      ]
     },
     "execution_count": 26,
     "metadata": {},
     "output_type": "execute_result"
    }
   ],
   "source": [
    "#Substituting the solution in third equation\n",
    "eqn3.subs([(x,6),(y,-2),(z,5)])"
   ]
  },
  {
   "cell_type": "markdown",
   "id": "972b771d",
   "metadata": {},
   "source": [
    "Solve the system of linear equations\n",
    "$$\n",
    "\\begin{eqnarray*}\n",
    "x+y+z&=&7\\\\\n",
    "3x-2y-z&=&4\\\\\n",
    "x+6y+5z&=&24\n",
    "\\end{eqnarray*}\n",
    "$$"
   ]
  },
  {
   "cell_type": "code",
   "execution_count": 51,
   "id": "5618a11b",
   "metadata": {},
   "outputs": [
    {
     "data": {
      "image/png": "[encoded data removed]",
      "text/latex": [
       "$\\displaystyle \\left[ x + y + z = 7, \\  3 x - 2 y - z = 4, \\  x + 6 y + 5 z = 24\\right]$"
      ],
      "text/plain": [
       "[x + y + z = 7, 3⋅x - 2⋅y - z = 4, x + 6⋅y + 5⋅z = 24]"
      ]
     },
     "execution_count": 51,
     "metadata": {},
     "output_type": "execute_result"
    }
   ],
   "source": [
    "eqnn1=sp.Eq(x+y+z,7)\n",
    "eqnn2=sp.Eq(3*x-2*y-1*z,4)\n",
    "eqnn3=sp.Eq(x+6*y+5*z,24)\n",
    "syst_eqn = [eqnn1,eqnn2,eqnn3]\n",
    "syst_eqn"
   ]
  },
  {
   "cell_type": "code",
   "execution_count": 52,
   "id": "b9ffa766",
   "metadata": {},
   "outputs": [
    {
     "data": {
      "image/png": "[encoded data removed]",
      "text/latex": [
       "$\\displaystyle \\left\\{ x : \\frac{18}{5} - \\frac{z}{5}, \\  y : \\frac{17}{5} - \\frac{4 z}{5}\\right\\}$"
      ],
      "text/plain": [
       "⎧   18   z     17   4⋅z⎫\n",
       "⎨x: ── - ─, y: ── - ───⎬\n",
       "⎩   5    5     5     5 ⎭"
      ]
     },
     "execution_count": 52,
     "metadata": {},
     "output_type": "execute_result"
    }
   ],
   "source": [
    "soln = sp.solve(syst_eqn,x,y,z)\n",
    "soln"
   ]
  },
  {
   "cell_type": "code",
   "execution_count": 53,
   "id": "77a88fc3",
   "metadata": {},
   "outputs": [
    {
     "data": {
      "image/png": "[encoded data removed]",
      "text/latex": [
       "$\\displaystyle \\text{True}$"
      ],
      "text/plain": [
       "True"
      ]
     },
     "execution_count": 53,
     "metadata": {},
     "output_type": "execute_result"
    }
   ],
   "source": [
    "eqnn1.subs([(x,18/5-z/5),(y,17/5-4*z/5),(z,z)])"
   ]
  },
  {
   "cell_type": "code",
   "execution_count": 55,
   "id": "cb1f86c1",
   "metadata": {},
   "outputs": [
    {
     "data": {
      "image/png": "[encoded data removed]",
      "text/latex": [
       "$\\displaystyle \\text{False}$"
      ],
      "text/plain": [
       "False"
      ]
     },
     "execution_count": 55,
     "metadata": {},
     "output_type": "execute_result"
    }
   ],
   "source": [
    "eqnn2.subs([(x,18/5-z/5),(y,17/5-4*z/5),(z,z)])"
   ]
  },
  {
   "cell_type": "code",
   "execution_count": 54,
   "id": "e97c4252",
   "metadata": {},
   "outputs": [
    {
     "data": {
      "image/png": "[encoded data removed]",
      "text/latex": [
       "$\\displaystyle \\text{True}$"
      ],
      "text/plain": [
       "True"
      ]
     },
     "execution_count": 54,
     "metadata": {},
     "output_type": "execute_result"
    }
   ],
   "source": [
    "eqnn3.subs([(x,18/5-z/5),(y,17/5-4*z/5),(z,z)])"
   ]
  },
  {
   "cell_type": "markdown",
   "id": "d374d17f",
   "metadata": {},
   "source": [
    "Solve the system of linear equations\n",
    "\n",
    "$$\n",
    "\\begin{eqnarray*}\n",
    "x-3y+z&=&4\\\\\n",
    "-x+2y-5z&=&3\\\\\n",
    "5x-13y+13z&=&8\n",
    "\\end{eqnarray*}\n",
    "$$"
   ]
  },
  {
   "cell_type": "code",
   "execution_count": 56,
   "id": "ce4c91a4",
   "metadata": {},
   "outputs": [
    {
     "data": {
      "image/png": "[encoded data removed]",
      "text/latex": [
       "$\\displaystyle \\left[ x - 3 y + z = 4, \\  - x + 2 y - 5 z = 3, \\  5 x - 13 y + 13 z = 8\\right]$"
      ],
      "text/plain": [
       "[x - 3⋅y + z = 4, -x + 2⋅y - 5⋅z = 3, 5⋅x - 13⋅y + 13⋅z = 8]"
      ]
     },
     "execution_count": 56,
     "metadata": {},
     "output_type": "execute_result"
    }
   ],
   "source": [
    "eqs1=sp.Eq(x-3*y+z,4)\n",
    "eqs2=sp.Eq(-x+2*y-5*z,3)\n",
    "eqs3=sp.Eq(5*x-13*y+13*z,8)\n",
    "system=[eqs1,eqs2,eqs3]\n",
    "system"
   ]
  },
  {
   "cell_type": "code",
   "execution_count": 57,
   "id": "3c2096db",
   "metadata": {},
   "outputs": [
    {
     "data": {
      "image/png": "[encoded data removed]",
      "text/latex": [
       "$\\displaystyle \\left[ \\right]$"
      ],
      "text/plain": [
       "[]"
      ]
     },
     "execution_count": 57,
     "metadata": {},
     "output_type": "execute_result"
    }
   ],
   "source": [
    "soln = sp.solve(system,x,y,z)\n",
    "soln"
   ]
  },
  {
   "cell_type": "markdown",
   "id": "6956eaf9",
   "metadata": {},
   "source": [
    "#### <span style=\"color:blue;\">4.3 Getting row echelon form and reduced row echelon from of an augmented matrix</span>"
   ]
  },
  {
   "cell_type": "markdown",
   "id": "be5279a2",
   "metadata": {},
   "source": [
    "Get the augmented matrix of the following system and get its row echelon form and reduced row echelon form.\n",
    "\n",
    "$$\n",
    "\\begin{eqnarray*}\n",
    "x-y+z&=&13\\\\\n",
    "2x+5y-3z&=&-13\\\\\n",
    "4x-y-6z&=&-4\n",
    "\\end{eqnarray*}\n",
    "$$"
   ]
  },
  {
   "cell_type": "code",
   "execution_count": 4,
   "id": "981128f9",
   "metadata": {},
   "outputs": [
    {
     "data": {
      "image/png": "[encoded data removed]",
      "text/latex": [
       "$\\displaystyle \\left[\\begin{matrix}1 & -1 & 1 & 13\\\\2 & 5 & -3 & -13\\\\4 & -1 & -6 & -4\\end{matrix}\\right]$"
      ],
      "text/plain": [
       "⎡1  -1  1   13 ⎤\n",
       "⎢              ⎥\n",
       "⎢2  5   -3  -13⎥\n",
       "⎢              ⎥\n",
       "⎣4  -1  -6  -4 ⎦"
      ]
     },
     "execution_count": 4,
     "metadata": {},
     "output_type": "execute_result"
    }
   ],
   "source": [
    "#Augmented Matrix\n",
    "A = sp.Matrix(3,4,[1,-1,1,13,2,5,-3,-13,4,-1,-6,-4])\n",
    "A"
   ]
  },
  {
   "cell_type": "code",
   "execution_count": 10,
   "id": "6f5995d5",
   "metadata": {},
   "outputs": [
    {
     "data": {
      "image/png": "[encoded data removed]",
      "text/latex": [
       "$\\displaystyle \\left[\\begin{matrix}1 & -1 & 1 & 13\\\\0 & 7 & -5 & -39\\\\0 & 0 & -55 & -275\\end{matrix}\\right]$"
      ],
      "text/plain": [
       "⎡1  -1   1    13 ⎤\n",
       "⎢                ⎥\n",
       "⎢0  7   -5   -39 ⎥\n",
       "⎢                ⎥\n",
       "⎣0  0   -55  -275⎦"
      ]
     },
     "execution_count": 10,
     "metadata": {},
     "output_type": "execute_result"
    }
   ],
   "source": [
    "# Row echelon form\n",
    "B=A.echelon_form()\n",
    "B"
   ]
  },
  {
   "cell_type": "code",
   "execution_count": 16,
   "id": "d72a2e0f",
   "metadata": {},
   "outputs": [
    {
     "data": {
      "image/png": "[encoded data removed]",
      "text/latex": [
       "$\\displaystyle 5$"
      ],
      "text/plain": [
       "5"
      ]
     },
     "execution_count": 16,
     "metadata": {},
     "output_type": "execute_result"
    }
   ],
   "source": [
    "z1=B.row(2)[3]/B.row(2)[2]\n",
    "z1"
   ]
  },
  {
   "cell_type": "code",
   "execution_count": 17,
   "id": "e4a54a68",
   "metadata": {},
   "outputs": [
    {
     "data": {
      "image/png": "[encoded data removed]",
      "text/latex": [
       "$\\displaystyle -2$"
      ],
      "text/plain": [
       "-2"
      ]
     },
     "execution_count": 17,
     "metadata": {},
     "output_type": "execute_result"
    }
   ],
   "source": [
    "y1=(B.row(1)[3]-z1*B.row(1)[2])/7\n",
    "y1"
   ]
  },
  {
   "cell_type": "code",
   "execution_count": 18,
   "id": "60849e7c",
   "metadata": {},
   "outputs": [
    {
     "data": {
      "image/png": "[encoded data removed]",
      "text/latex": [
       "$\\displaystyle 6$"
      ],
      "text/plain": [
       "6"
      ]
     },
     "execution_count": 18,
     "metadata": {},
     "output_type": "execute_result"
    }
   ],
   "source": [
    "x1=B.row(0)[3]-y1*B.row(0)[1]-z1*B.row(0)[2]\n",
    "x1"
   ]
  },
  {
   "cell_type": "code",
   "execution_count": 7,
   "id": "2a6b2732",
   "metadata": {},
   "outputs": [
    {
     "data": {
      "image/png": "[encoded data removed]",
      "text/latex": [
       "$\\displaystyle \\left[\\begin{matrix}1 & 0 & 0 & 6\\\\0 & 1 & 0 & -2\\\\0 & 0 & 1 & 5\\end{matrix}\\right]$"
      ],
      "text/plain": [
       "⎡1  0  0  6 ⎤\n",
       "⎢           ⎥\n",
       "⎢0  1  0  -2⎥\n",
       "⎢           ⎥\n",
       "⎣0  0  1  5 ⎦"
      ]
     },
     "execution_count": 7,
     "metadata": {},
     "output_type": "execute_result"
    }
   ],
   "source": [
    "#Reduced row echelon form\n",
    "A.rref(pivots=False)"
   ]
  },
  {
   "cell_type": "markdown",
   "id": "da8721d9",
   "metadata": {},
   "source": [
    "#### <span style=\"color:blue;\">4.4 Performing elementary row operations</span>\n",
    "\n",
    "Three elementary row operations are \n",
    "\n",
    "1. Row swap: $n\\leftrightarrow m$\n",
    "2. Replace a row by constant $k$ times the row: $$n\\rightarrow kn$$\n",
    "3. Replace row $n$ by row $n$ plus constant $k$ times row $m$: $$n\\rightarrow n+km$$\n",
    "\n",
    "Syntax to perform elementary row operations on augmented matrix $A$ are:\n",
    "\n",
    "```python\n",
    "1. A.elementary_row_op(op='n<->m',row1=n,row2=m)\n",
    "2. A.elementary_row_op(op='n->kn',row=n,k=c)\n",
    "3. A.elementary_row_op(op='n->n+km',row1=n,row2=m,k=a)\n",
    "```"
   ]
  },
  {
   "cell_type": "markdown",
   "id": "1b550782",
   "metadata": {},
   "source": [
    "Solve this system by performing elementary row operations\n",
    "\n",
    "$$\n",
    "\\begin{eqnarray*}\n",
    "x-y+z&=&13\\\\\n",
    "2x+5y-3z&=&-13\\\\\n",
    "4x-y-6z&=&-4\n",
    "\\end{eqnarray*}\n",
    "$$"
   ]
  },
  {
   "cell_type": "code",
   "execution_count": 19,
   "id": "fd37e85c",
   "metadata": {},
   "outputs": [
    {
     "data": {
      "image/png": "[encoded data removed]",
      "text/latex": [
       "$\\displaystyle \\left[\\begin{matrix}1 & -1 & 1 & 13\\\\2 & 5 & -3 & -13\\\\4 & -1 & -6 & -4\\end{matrix}\\right]$"
      ],
      "text/plain": [
       "⎡1  -1  1   13 ⎤\n",
       "⎢              ⎥\n",
       "⎢2  5   -3  -13⎥\n",
       "⎢              ⎥\n",
       "⎣4  -1  -6  -4 ⎦"
      ]
     },
     "execution_count": 19,
     "metadata": {},
     "output_type": "execute_result"
    }
   ],
   "source": [
    "#Augmented Matrix\n",
    "A = sp.Matrix(3,4,[1,-1,1,13,2,5,-3,-13,4,-1,-6,-4])\n",
    "A"
   ]
  },
  {
   "cell_type": "code",
   "execution_count": 20,
   "id": "00a79446",
   "metadata": {},
   "outputs": [
    {
     "data": {
      "image/png": "[encoded data removed]",
      "text/latex": [
       "$\\displaystyle \\left[\\begin{matrix}1 & -1 & 1 & 13\\\\0 & 7 & -5 & -39\\\\4 & -1 & -6 & -4\\end{matrix}\\right]$"
      ],
      "text/plain": [
       "⎡1  -1  1   13 ⎤\n",
       "⎢              ⎥\n",
       "⎢0  7   -5  -39⎥\n",
       "⎢              ⎥\n",
       "⎣4  -1  -6  -4 ⎦"
      ]
     },
     "execution_count": 20,
     "metadata": {},
     "output_type": "execute_result"
    }
   ],
   "source": [
    "A_1=A.elementary_row_op(op='n->n+km', row1=1,row2=0, k=-2)\n",
    "A_1"
   ]
  },
  {
   "cell_type": "code",
   "execution_count": 21,
   "id": "a32cb398",
   "metadata": {},
   "outputs": [
    {
     "data": {
      "image/png": "[encoded data removed]",
      "text/latex": [
       "$\\displaystyle \\left[\\begin{matrix}1 & -1 & 1 & 13\\\\0 & 7 & -5 & -39\\\\0 & 3 & -10 & -56\\end{matrix}\\right]$"
      ],
      "text/plain": [
       "⎡1  -1   1   13 ⎤\n",
       "⎢               ⎥\n",
       "⎢0  7   -5   -39⎥\n",
       "⎢               ⎥\n",
       "⎣0  3   -10  -56⎦"
      ]
     },
     "execution_count": 21,
     "metadata": {},
     "output_type": "execute_result"
    }
   ],
   "source": [
    "A_2=A_1.elementary_row_op(op='n->n+km', row1=2,row2=0, k=-4)\n",
    "A_2"
   ]
  },
  {
   "cell_type": "code",
   "execution_count": 22,
   "id": "6deda648",
   "metadata": {},
   "outputs": [
    {
     "data": {
      "image/png": "[encoded data removed]",
      "text/latex": [
       "$\\displaystyle \\left[\\begin{matrix}1 & -1 & 1 & 13\\\\0 & 7 & -5 & -39\\\\0 & 0 & -7.85714285714286 & -39.2857142857143\\end{matrix}\\right]$"
      ],
      "text/plain": [
       "⎡1  -1          1                 13        ⎤\n",
       "⎢                                           ⎥\n",
       "⎢0  7          -5                 -39       ⎥\n",
       "⎢                                           ⎥\n",
       "⎣0  0   -7.85714285714286  -39.2857142857143⎦"
      ]
     },
     "execution_count": 22,
     "metadata": {},
     "output_type": "execute_result"
    }
   ],
   "source": [
    "A_3=(A_2.elementary_row_op(op='n->n+km', row1=2,row2=1, k=-3/7))\n",
    "A_3"
   ]
  },
  {
   "cell_type": "code",
   "execution_count": 73,
   "id": "78cf6bbb",
   "metadata": {},
   "outputs": [
    {
     "data": {
      "image/png": "[encoded data removed]",
      "text/latex": [
       "$\\displaystyle - \\frac{55}{7}$"
      ],
      "text/plain": [
       "-55/7"
      ]
     },
     "execution_count": 73,
     "metadata": {},
     "output_type": "execute_result"
    }
   ],
   "source": [
    "sp.nsimplify(A_3.row(2)[2])"
   ]
  },
  {
   "cell_type": "code",
   "execution_count": 24,
   "id": "60062240",
   "metadata": {},
   "outputs": [
    {
     "data": {
      "image/png": "[encoded data removed]",
      "text/latex": [
       "$\\displaystyle \\left[\\begin{matrix}1 & -1 & 1 & 13\\\\0 & 7 & -5 & -39\\\\0 & 0 & 1.0 & 5.0\\end{matrix}\\right]$"
      ],
      "text/plain": [
       "⎡1  -1   1   13 ⎤\n",
       "⎢               ⎥\n",
       "⎢0  7   -5   -39⎥\n",
       "⎢               ⎥\n",
       "⎣0  0   1.0  5.0⎦"
      ]
     },
     "execution_count": 24,
     "metadata": {},
     "output_type": "execute_result"
    }
   ],
   "source": [
    "A_4=A_3.elementary_row_op(op='n->kn',row=2,k=1/A_3.row(2)[2])\n",
    "A_4"
   ]
  },
  {
   "cell_type": "code",
   "execution_count": 25,
   "id": "8c0d4f6e",
   "metadata": {},
   "outputs": [
    {
     "data": {
      "image/png": "[encoded data removed]",
      "text/latex": [
       "$\\displaystyle \\left[\\begin{matrix}1 & -1 & 1 & 13\\\\0 & 7 & 0 & -14.0\\\\0 & 0 & 1.0 & 5.0\\end{matrix}\\right]$"
      ],
      "text/plain": [
       "⎡1  -1   1    13  ⎤\n",
       "⎢                 ⎥\n",
       "⎢0  7    0   -14.0⎥\n",
       "⎢                 ⎥\n",
       "⎣0  0   1.0   5.0 ⎦"
      ]
     },
     "execution_count": 25,
     "metadata": {},
     "output_type": "execute_result"
    }
   ],
   "source": [
    "A_5=A_4.elementary_row_op(op='n->n+km',row1=1,row2=2,k=5)\n",
    "A_5"
   ]
  },
  {
   "cell_type": "code",
   "execution_count": 26,
   "id": "e5fc8e27",
   "metadata": {},
   "outputs": [
    {
     "data": {
      "image/png": "[encoded data removed]",
      "text/latex": [
       "$\\displaystyle \\left[\\begin{matrix}1 & -1 & 0 & 8.0\\\\0 & 7 & 0 & -14.0\\\\0 & 0 & 1.0 & 5.0\\end{matrix}\\right]$"
      ],
      "text/plain": [
       "⎡1  -1   0    8.0 ⎤\n",
       "⎢                 ⎥\n",
       "⎢0  7    0   -14.0⎥\n",
       "⎢                 ⎥\n",
       "⎣0  0   1.0   5.0 ⎦"
      ]
     },
     "execution_count": 26,
     "metadata": {},
     "output_type": "execute_result"
    }
   ],
   "source": [
    "A_6=A_5.elementary_row_op(op='n->n+km',row1=0,row2=2,k=-1)\n",
    "A_6"
   ]
  },
  {
   "cell_type": "code",
   "execution_count": 27,
   "id": "f623aa96",
   "metadata": {},
   "outputs": [
    {
     "data": {
      "image/png": "[encoded data removed]",
      "text/latex": [
       "$\\displaystyle \\left[\\begin{matrix}1 & -1 & 0 & 8.0\\\\0 & 1 & 0 & -2.0\\\\0 & 0 & 1.0 & 5.0\\end{matrix}\\right]$"
      ],
      "text/plain": [
       "⎡1  -1   0   8.0 ⎤\n",
       "⎢                ⎥\n",
       "⎢0  1    0   -2.0⎥\n",
       "⎢                ⎥\n",
       "⎣0  0   1.0  5.0 ⎦"
      ]
     },
     "execution_count": 27,
     "metadata": {},
     "output_type": "execute_result"
    }
   ],
   "source": [
    "A_7=A_6.elementary_row_op(op='n->kn',row=1,k=1/A_6.row(1)[1])\n",
    "A_7"
   ]
  },
  {
   "cell_type": "code",
   "execution_count": 28,
   "id": "72028b1f",
   "metadata": {},
   "outputs": [
    {
     "data": {
      "image/png": "[encoded data removed]",
      "text/latex": [
       "$\\displaystyle \\left[\\begin{matrix}1 & 0 & 0 & 6.0\\\\0 & 1 & 0 & -2.0\\\\0 & 0 & 1.0 & 5.0\\end{matrix}\\right]$"
      ],
      "text/plain": [
       "⎡1  0   0   6.0 ⎤\n",
       "⎢               ⎥\n",
       "⎢0  1   0   -2.0⎥\n",
       "⎢               ⎥\n",
       "⎣0  0  1.0  5.0 ⎦"
      ]
     },
     "execution_count": 28,
     "metadata": {},
     "output_type": "execute_result"
    }
   ],
   "source": [
    "A_8=A_7.elementary_row_op(op='n->n+km',row1=0,row2=1,k=1)\n",
    "A_8"
   ]
  },
  {
   "cell_type": "markdown",
   "id": "05eb5644",
   "metadata": {},
   "source": [
    "#### <span style=\"color:blue;\">4.5 Solving using gauss_jordan_solve</span>"
   ]
  },
  {
   "cell_type": "markdown",
   "id": "53854dba",
   "metadata": {},
   "source": [
    "Solve this system using gauss_jordan_solve\n",
    "\n",
    "$$\n",
    "\\begin{eqnarray*}\n",
    "x-y+z&=&13\\\\\n",
    "2x+5y-3z&=&-13\\\\\n",
    "4x-y-6z&=&-4\n",
    "\\end{eqnarray*}\n",
    "$$"
   ]
  },
  {
   "cell_type": "code",
   "execution_count": 126,
   "id": "caf6d9af",
   "metadata": {},
   "outputs": [
    {
     "data": {
      "image/png": "[encoded data removed]",
      "text/latex": [
       "$\\displaystyle \\left[\\begin{matrix}1 & -1 & 1\\\\2 & 5 & -3\\\\4 & -1 & -6\\end{matrix}\\right]$"
      ],
      "text/plain": [
       "⎡1  -1  1 ⎤\n",
       "⎢         ⎥\n",
       "⎢2  5   -3⎥\n",
       "⎢         ⎥\n",
       "⎣4  -1  -6⎦"
      ]
     },
     "execution_count": 126,
     "metadata": {},
     "output_type": "execute_result"
    }
   ],
   "source": [
    "A=sp.Matrix(3,3,[1,-1,1,2,5,-3,4,-1,-6])\n",
    "A"
   ]
  },
  {
   "cell_type": "code",
   "execution_count": 127,
   "id": "489d7b09",
   "metadata": {},
   "outputs": [
    {
     "data": {
      "image/png": "[encoded data removed]",
      "text/latex": [
       "$\\displaystyle \\left[\\begin{matrix}13\\\\-13\\\\-4\\end{matrix}\\right]$"
      ],
      "text/plain": [
       "⎡13 ⎤\n",
       "⎢   ⎥\n",
       "⎢-13⎥\n",
       "⎢   ⎥\n",
       "⎣-4 ⎦"
      ]
     },
     "execution_count": 127,
     "metadata": {},
     "output_type": "execute_result"
    }
   ],
   "source": [
    "B = sp.Matrix([13,-13,-4])\n",
    "B"
   ]
  },
  {
   "cell_type": "code",
   "execution_count": 130,
   "id": "9d41b829",
   "metadata": {},
   "outputs": [
    {
     "data": {
      "image/png": "[encoded data removed]",
      "text/latex": [
       "$\\displaystyle \\left( \\left[\\begin{matrix}6\\\\-2\\\\5\\end{matrix}\\right], \\  \\left[\\begin{matrix}\\end{matrix}\\right]\\right)$"
      ],
      "text/plain": [
       "⎛⎡6 ⎤    ⎞\n",
       "⎜⎢  ⎥    ⎟\n",
       "⎜⎢-2⎥, []⎟\n",
       "⎜⎢  ⎥    ⎟\n",
       "⎝⎣5 ⎦    ⎠"
      ]
     },
     "execution_count": 130,
     "metadata": {},
     "output_type": "execute_result"
    }
   ],
   "source": [
    "A.gauss_jordan_solve(B)"
   ]
  },
  {
   "cell_type": "markdown",
   "id": "b74758af",
   "metadata": {},
   "source": [
    "#### <span style=\"color:blue;\">4.6 Solving system using inverse of coefficient matrix</span>\n",
    "\n",
    "If $Ax=b$ is a system of linear equations then $x=A^{-1}b$"
   ]
  },
  {
   "cell_type": "markdown",
   "id": "247769d6",
   "metadata": {},
   "source": [
    "Solve this system using inverse of coefficient matrix\n",
    "\n",
    "$$\n",
    "\\begin{eqnarray*}\n",
    "x-y+z&=&13\\\\\n",
    "2x+5y-3z&=&-13\\\\\n",
    "4x-y-6z&=&-4\n",
    "\\end{eqnarray*}\n",
    "$$"
   ]
  },
  {
   "cell_type": "code",
   "execution_count": 4,
   "id": "3d4b6fee",
   "metadata": {},
   "outputs": [
    {
     "data": {
      "image/png": "[encoded data removed]",
      "text/latex": [
       "$\\displaystyle \\left[\\begin{matrix}1 & -1 & 1\\\\2 & 5 & -3\\\\4 & -1 & -6\\end{matrix}\\right]$"
      ],
      "text/plain": [
       "⎡1  -1  1 ⎤\n",
       "⎢         ⎥\n",
       "⎢2  5   -3⎥\n",
       "⎢         ⎥\n",
       "⎣4  -1  -6⎦"
      ]
     },
     "execution_count": 4,
     "metadata": {},
     "output_type": "execute_result"
    }
   ],
   "source": [
    "A=sp.Matrix(3,3,[1,-1,1,2,5,-3,4,-1,-6])\n",
    "A"
   ]
  },
  {
   "cell_type": "code",
   "execution_count": 5,
   "id": "0b90de1d",
   "metadata": {},
   "outputs": [
    {
     "data": {
      "image/png": "[encoded data removed]",
      "text/latex": [
       "$\\displaystyle \\left[\\begin{matrix}13\\\\-13\\\\-4\\end{matrix}\\right]$"
      ],
      "text/plain": [
       "⎡13 ⎤\n",
       "⎢   ⎥\n",
       "⎢-13⎥\n",
       "⎢   ⎥\n",
       "⎣-4 ⎦"
      ]
     },
     "execution_count": 5,
     "metadata": {},
     "output_type": "execute_result"
    }
   ],
   "source": [
    "b=sp.Matrix([13,-13,-4])\n",
    "b"
   ]
  },
  {
   "cell_type": "code",
   "execution_count": 7,
   "id": "e98b7c4f",
   "metadata": {},
   "outputs": [
    {
     "data": {
      "image/png": "[encoded data removed]",
      "text/latex": [
       "$\\displaystyle \\left[\\begin{matrix}\\frac{3}{5} & \\frac{7}{55} & \\frac{2}{55}\\\\0 & \\frac{2}{11} & - \\frac{1}{11}\\\\\\frac{2}{5} & \\frac{3}{55} & - \\frac{7}{55}\\end{matrix}\\right]$"
      ],
      "text/plain": [
       "⎡3/5  7/55  2/55 ⎤\n",
       "⎢                ⎥\n",
       "⎢ 0   2/11  -1/11⎥\n",
       "⎢                ⎥\n",
       "⎣2/5  3/55  -7/55⎦"
      ]
     },
     "execution_count": 7,
     "metadata": {},
     "output_type": "execute_result"
    }
   ],
   "source": [
    "A_inv=A.inv()\n",
    "A_inv"
   ]
  },
  {
   "cell_type": "code",
   "execution_count": 21,
   "id": "9dd9781a",
   "metadata": {},
   "outputs": [
    {
     "data": {
      "image/png": "[encoded data removed]",
      "text/latex": [
       "$\\displaystyle \\left[\\begin{matrix}6\\\\-2\\\\5\\end{matrix}\\right]$"
      ],
      "text/plain": [
       "⎡6 ⎤\n",
       "⎢  ⎥\n",
       "⎢-2⎥\n",
       "⎢  ⎥\n",
       "⎣5 ⎦"
      ]
     },
     "metadata": {},
     "output_type": "display_data"
    }
   ],
   "source": [
    "solution = A_inv*b\n",
    "display(solution)"
   ]
  },
  {
   "cell_type": "code",
   "execution_count": null,
   "id": "d07f934c",
   "metadata": {},
   "outputs": [],
   "source": []
  }
 ],
 "metadata": {
  "kernelspec": {
   "display_name": "Python 3 (ipykernel)",
   "language": "python",
   "name": "python3"
  },
  "language_info": {
   "codemirror_mode": {
    "name": "ipython",
    "version": 3
   },
   "file_extension": ".py",
   "mimetype": "text/x-python",
   "name": "python",
   "nbconvert_exporter": "python",
   "pygments_lexer": "ipython3",
   "version": "3.10.9"
  }
 },
 "nbformat": 4,
 "nbformat_minor": 5
}
